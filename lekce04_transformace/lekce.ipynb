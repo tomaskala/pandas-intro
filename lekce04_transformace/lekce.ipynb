{
 "cells": [
  {
   "cell_type": "markdown",
   "metadata": {},
   "source": [
    "# Transformace"
   ]
  },
  {
   "cell_type": "markdown",
   "metadata": {},
   "source": [
    "![transformace](transformace.png)"
   ]
  },
  {
   "cell_type": "markdown",
   "metadata": {},
   "source": [
    "## 1. Vlastní funkce"
   ]
  },
  {
   "cell_type": "markdown",
   "metadata": {},
   "source": [
    "Příklad: funkce `round`, `len`, `random`, `open`.\n",
    "\n",
    "* Funkce je poměrně základním konceptem v Pythonu a programování vůbec.\n",
    "* Dosud jsme jich potkali spoustu, jak přímo z Pythonu nebo z nějaké knihovny (`requests`, `pandas`, ...).\n",
    "* Je možné definovat si vlastní funkce.\n",
    "\n",
    "\n",
    "* Umožňuje definovat blok kódu provádějící určitou specializovanou činnost, která se opakuje.\n",
    "* Přesné chování funkce je závislé na vstupních parametrech.\n",
    "* Vrací hodnotu jako výsledek."
   ]
  },
  {
   "cell_type": "markdown",
   "metadata": {},
   "source": [
    "![triangle](triangle-area.png)"
   ]
  },
  {
   "cell_type": "markdown",
   "metadata": {},
   "source": [
    "Z kodim.cz ukradneme nápad na funkci pro výpočet obsahu trojúhelníku."
   ]
  },
  {
   "cell_type": "code",
   "execution_count": 1,
   "metadata": {},
   "outputs": [
    {
     "name": "stdout",
     "output_type": "stream",
     "text": [
      "9.0\n",
      "6.0\n"
     ]
    }
   ],
   "source": [
    "height1 = 3\n",
    "width1 = 6\n",
    "area1 = (height1 * width1) / 2\n",
    "print(area1)\n",
    "\n",
    "height2 = 4\n",
    "width2 = 3\n",
    "area2 = (height2 * width2) / 2\n",
    "print(area2)"
   ]
  },
  {
   "cell_type": "markdown",
   "metadata": {},
   "source": [
    "Pokud potřebujeme spočítat obsah mnoha trojúhelníků, začne být otravné vypisovat pořád ten samý kód dokola. Navíc při častém opisování toho samého snadno uděláme chybu.\n",
    "\n",
    "Definujeme si funkci, která v parametrech dostane rozměry trojúhelníku a jako výsledek vrátí jeho obsah."
   ]
  },
  {
   "cell_type": "code",
   "execution_count": 2,
   "metadata": {},
   "outputs": [],
   "source": [
    "def triangle_area(height, width):\n",
    "    return (height * width) / 2"
   ]
  },
  {
   "cell_type": "code",
   "execution_count": 3,
   "metadata": {},
   "outputs": [
    {
     "name": "stdout",
     "output_type": "stream",
     "text": [
      "9.0\n",
      "6.0\n"
     ]
    }
   ],
   "source": [
    "area1 = triangle_area(3, 6)\n",
    "print(area1)\n",
    "\n",
    "area2 = triangle_area(4, 3)\n",
    "print(area2)"
   ]
  },
  {
   "cell_type": "markdown",
   "metadata": {},
   "source": [
    "Formát definice funkce je následující.\n",
    "```\n",
    "def <nazev_funkce>(<parametry>):\n",
    "    <libovolny kod>\n",
    "```\n",
    "\n",
    "* Názvy funkcí se řídí stejnými pravidly, jako názvy proměnných.\n",
    "* Funkce může mít libovolný počet parametrů. Pokud nemá žádné, kulaté závorky necháme prázdné (být tam ale musejí).\n",
    "* Uvnitř těla funkce (odsazené pod jejím názvem a parametry) může být libovolný kód.\n",
    "* Proměnné definované uvnitř funkce existují pouze tam, zvenčí nejsou viditelné.\n",
    "* Pokud funkce vrací nějaký výsledek, uvedeme na konci `return <vysledek>`."
   ]
  },
  {
   "cell_type": "markdown",
   "metadata": {},
   "source": [
    "### Součet kladných hodnot"
   ]
  },
  {
   "cell_type": "code",
   "execution_count": 4,
   "metadata": {},
   "outputs": [],
   "source": [
    "def sum_positive(values):\n",
    "    result = 0\n",
    "    \n",
    "    for value in values:\n",
    "        if value > 0:\n",
    "            result += value\n",
    "            \n",
    "    return result"
   ]
  },
  {
   "cell_type": "code",
   "execution_count": 5,
   "metadata": {},
   "outputs": [
    {
     "name": "stdout",
     "output_type": "stream",
     "text": [
      "Python sum: 15\n",
      "My sum: 15\n"
     ]
    }
   ],
   "source": [
    "test1 = [1, 2, 3, 4, 5]\n",
    "python_sum1 = sum(test1)\n",
    "my_sum1 = sum_positive(test1)\n",
    "print(f\"Python sum: {python_sum1}\")\n",
    "print(f\"My sum: {my_sum1}\")"
   ]
  },
  {
   "cell_type": "code",
   "execution_count": 6,
   "metadata": {},
   "outputs": [
    {
     "name": "stdout",
     "output_type": "stream",
     "text": [
      "Python sum: 5\n",
      "My sum: 10\n"
     ]
    }
   ],
   "source": [
    "test2 = [-1, 2, 3, -4, 5]\n",
    "python_sum2 = sum(test2)\n",
    "my_sum2 = sum_positive(test2)\n",
    "print(f\"Python sum: {python_sum2}\")\n",
    "print(f\"My sum: {my_sum2}\")"
   ]
  },
  {
   "cell_type": "markdown",
   "metadata": {},
   "source": [
    "### Zápis do CSV\n",
    "Funkce bez návratové hodnoty. Pozor, je velmi zjednodušená, v praxi by se měly použít pandas nebo pythonovský modul pro práci s CSV soubory."
   ]
  },
  {
   "cell_type": "code",
   "execution_count": 7,
   "metadata": {},
   "outputs": [],
   "source": [
    "def write_to_csv(path, nested_list):\n",
    "    f = open(path, mode=\"w\", encoding=\"utf-8\")\n",
    "    \n",
    "    for inner_list in nested_list:\n",
    "        str_list = [str(v) for v in inner_list]\n",
    "        f.write(\",\".join(str_list))\n",
    "        f.write(\"\\n\")\n",
    "    \n",
    "    f.close()"
   ]
  },
  {
   "cell_type": "code",
   "execution_count": 8,
   "metadata": {},
   "outputs": [],
   "source": [
    "data = [[\"hello\", \"python\"], [\"goodbye\", \"python\"], [123, 456]]\n",
    "write_to_csv(\"test.csv\", data)"
   ]
  },
  {
   "cell_type": "code",
   "execution_count": 9,
   "metadata": {},
   "outputs": [
    {
     "name": "stdout",
     "output_type": "stream",
     "text": [
      "hello,python\r\n",
      "goodbye,python\r\n",
      "123,456\r\n"
     ]
    }
   ],
   "source": [
    "!cat test.csv"
   ]
  },
  {
   "cell_type": "markdown",
   "metadata": {},
   "source": [
    "### Převod školních známek\n",
    "Funkce mohou také zpřehlednit kód. Použijeme příklad z dřívejška s převodem známek z písmen na čísla."
   ]
  },
  {
   "cell_type": "code",
   "execution_count": 10,
   "metadata": {},
   "outputs": [],
   "source": [
    "grades = [\"A\", \"A\", \"B\", \"A\", \"C\", \"D\", \"E\", \"C\", \"B\", \"A\", \"C\"]"
   ]
  },
  {
   "cell_type": "code",
   "execution_count": 11,
   "metadata": {},
   "outputs": [
    {
     "name": "stdout",
     "output_type": "stream",
     "text": [
      "['1', '1', '2', '1', '3', '4', '5', '3', '2', '1', '3']\n"
     ]
    }
   ],
   "source": [
    "converted1 = [grade.replace(\"A\", \"1\").replace(\"B\", \"2\").replace(\"C\", \"3\").replace(\"D\", \"4\").replace(\"E\", \"5\")\n",
    "              for grade in grades]\n",
    "print(converted1)"
   ]
  },
  {
   "cell_type": "code",
   "execution_count": 12,
   "metadata": {},
   "outputs": [],
   "source": [
    "def convert_grade(grade):\n",
    "    return grade.replace(\"A\", \"1\").replace(\"B\", \"2\").replace(\"C\", \"3\").replace(\"D\", \"4\").replace(\"E\", \"5\")"
   ]
  },
  {
   "cell_type": "code",
   "execution_count": 13,
   "metadata": {},
   "outputs": [
    {
     "name": "stdout",
     "output_type": "stream",
     "text": [
      "['1', '1', '2', '1', '3', '4', '5', '3', '2', '1', '3']\n"
     ]
    }
   ],
   "source": [
    "converted2 = [convert_grade(grade) for grade in grades]\n",
    "print(converted2)"
   ]
  },
  {
   "cell_type": "code",
   "execution_count": 14,
   "metadata": {},
   "outputs": [],
   "source": [
    "def convert_grade_better(grade):\n",
    "    if grade == \"A\":\n",
    "        return \"1\"\n",
    "    elif grade == \"B\":\n",
    "        return \"2\"\n",
    "    elif grade == \"C\":\n",
    "        return \"3\"\n",
    "    elif grade == \"D\":\n",
    "        return \"4\"\n",
    "    else:\n",
    "        return \"5\""
   ]
  },
  {
   "cell_type": "code",
   "execution_count": 15,
   "metadata": {},
   "outputs": [
    {
     "name": "stdout",
     "output_type": "stream",
     "text": [
      "['1', '1', '2', '1', '3', '4', '5', '3', '2', '1', '3']\n"
     ]
    }
   ],
   "source": [
    "converted3 = [convert_grade_better(grade) for grade in grades]\n",
    "print(converted3)"
   ]
  },
  {
   "cell_type": "markdown",
   "metadata": {},
   "source": [
    "## Cvičení"
   ]
  },
  {
   "cell_type": "code",
   "execution_count": null,
   "metadata": {},
   "outputs": [],
   "source": []
  },
  {
   "cell_type": "markdown",
   "metadata": {},
   "source": [
    "## 2. Transformace dat v Pandas"
   ]
  },
  {
   "cell_type": "markdown",
   "metadata": {},
   "source": [
    "Budeme se snažit převést špatně formátovaná data do tvaru, se kterým se lépe pracuje. Něco takového řešíme v praxi v jednom kuse -- dostaneme horu dat, nic o nich nevíme a potřebujeme v nich udělat pořádek.\n",
    "\n",
    "Pracujeme s daty o hmotnosti Kristiána během 14 dnů, kdy se snažil zhubnout."
   ]
  },
  {
   "cell_type": "code",
   "execution_count": 16,
   "metadata": {},
   "outputs": [
    {
     "name": "stdout",
     "output_type": "stream",
     "text": [
      "den\tváha\tběh\ttýden\r\n",
      "pá 3.\t75,6 kg\t3 km\t1\r\n",
      "so 4.\t75,3 kh\tpauza\t1\r\n",
      "ne 5.\t75,9kg\tpauza\t1\r\n",
      "po 6.\t76,1 kg\t2 km\t1\r\n",
      "út 7\t75,4 kg\tpaza\t1\r\n",
      "st 8.\t75kg\tpauza\t1\r\n",
      "čt 9.\t74,9 kg\t3\t1\r\n",
      "pá 10.\t74,8 k\tpauza\t2\r\n",
      "so 11.\t74,3kg\t3 km\t2\r\n",
      "ne 12\t75,2 kg\t4 km\t2\r\n",
      "po 13.\t74,5 kg\t\t2\r\n",
      "út 14.\t74,2 kg\tpauza\t2\r\n",
      "st 15.\t74,1 kg\t3 km\t2\r\n",
      "čt 16\t73,8 kg\t3km\t2"
     ]
    }
   ],
   "source": [
    "!cat vaha.txt"
   ]
  },
  {
   "cell_type": "code",
   "execution_count": 17,
   "metadata": {},
   "outputs": [],
   "source": [
    "import pandas"
   ]
  },
  {
   "cell_type": "code",
   "execution_count": 18,
   "metadata": {},
   "outputs": [
    {
     "data": {
      "text/html": [
       "<div>\n",
       "<style scoped>\n",
       "    .dataframe tbody tr th:only-of-type {\n",
       "        vertical-align: middle;\n",
       "    }\n",
       "\n",
       "    .dataframe tbody tr th {\n",
       "        vertical-align: top;\n",
       "    }\n",
       "\n",
       "    .dataframe thead th {\n",
       "        text-align: right;\n",
       "    }\n",
       "</style>\n",
       "<table border=\"1\" class=\"dataframe\">\n",
       "  <thead>\n",
       "    <tr style=\"text-align: right;\">\n",
       "      <th></th>\n",
       "      <th>den</th>\n",
       "      <th>váha</th>\n",
       "      <th>běh</th>\n",
       "      <th>týden</th>\n",
       "    </tr>\n",
       "  </thead>\n",
       "  <tbody>\n",
       "    <tr>\n",
       "      <th>0</th>\n",
       "      <td>pá 3.</td>\n",
       "      <td>75,6 kg</td>\n",
       "      <td>3 km</td>\n",
       "      <td>1</td>\n",
       "    </tr>\n",
       "    <tr>\n",
       "      <th>1</th>\n",
       "      <td>so 4.</td>\n",
       "      <td>75,3 kh</td>\n",
       "      <td>pauza</td>\n",
       "      <td>1</td>\n",
       "    </tr>\n",
       "    <tr>\n",
       "      <th>2</th>\n",
       "      <td>ne 5.</td>\n",
       "      <td>75,9kg</td>\n",
       "      <td>pauza</td>\n",
       "      <td>1</td>\n",
       "    </tr>\n",
       "    <tr>\n",
       "      <th>3</th>\n",
       "      <td>po 6.</td>\n",
       "      <td>76,1 kg</td>\n",
       "      <td>2 km</td>\n",
       "      <td>1</td>\n",
       "    </tr>\n",
       "    <tr>\n",
       "      <th>4</th>\n",
       "      <td>út 7</td>\n",
       "      <td>75,4 kg</td>\n",
       "      <td>paza</td>\n",
       "      <td>1</td>\n",
       "    </tr>\n",
       "    <tr>\n",
       "      <th>5</th>\n",
       "      <td>st 8.</td>\n",
       "      <td>75kg</td>\n",
       "      <td>pauza</td>\n",
       "      <td>1</td>\n",
       "    </tr>\n",
       "    <tr>\n",
       "      <th>6</th>\n",
       "      <td>čt 9.</td>\n",
       "      <td>74,9 kg</td>\n",
       "      <td>3</td>\n",
       "      <td>1</td>\n",
       "    </tr>\n",
       "    <tr>\n",
       "      <th>7</th>\n",
       "      <td>pá 10.</td>\n",
       "      <td>74,8 k</td>\n",
       "      <td>pauza</td>\n",
       "      <td>2</td>\n",
       "    </tr>\n",
       "    <tr>\n",
       "      <th>8</th>\n",
       "      <td>so 11.</td>\n",
       "      <td>74,3kg</td>\n",
       "      <td>3 km</td>\n",
       "      <td>2</td>\n",
       "    </tr>\n",
       "    <tr>\n",
       "      <th>9</th>\n",
       "      <td>ne 12</td>\n",
       "      <td>75,2 kg</td>\n",
       "      <td>4 km</td>\n",
       "      <td>2</td>\n",
       "    </tr>\n",
       "    <tr>\n",
       "      <th>10</th>\n",
       "      <td>po 13.</td>\n",
       "      <td>74,5 kg</td>\n",
       "      <td>NaN</td>\n",
       "      <td>2</td>\n",
       "    </tr>\n",
       "    <tr>\n",
       "      <th>11</th>\n",
       "      <td>út 14.</td>\n",
       "      <td>74,2 kg</td>\n",
       "      <td>pauza</td>\n",
       "      <td>2</td>\n",
       "    </tr>\n",
       "    <tr>\n",
       "      <th>12</th>\n",
       "      <td>st 15.</td>\n",
       "      <td>74,1 kg</td>\n",
       "      <td>3 km</td>\n",
       "      <td>2</td>\n",
       "    </tr>\n",
       "    <tr>\n",
       "      <th>13</th>\n",
       "      <td>čt 16</td>\n",
       "      <td>73,8 kg</td>\n",
       "      <td>3km</td>\n",
       "      <td>2</td>\n",
       "    </tr>\n",
       "  </tbody>\n",
       "</table>\n",
       "</div>"
      ],
      "text/plain": [
       "       den     váha    běh  týden\n",
       "0    pá 3.  75,6 kg   3 km      1\n",
       "1    so 4.  75,3 kh  pauza      1\n",
       "2    ne 5.   75,9kg  pauza      1\n",
       "3    po 6.  76,1 kg   2 km      1\n",
       "4     út 7  75,4 kg   paza      1\n",
       "5    st 8.     75kg  pauza      1\n",
       "6    čt 9.  74,9 kg      3      1\n",
       "7   pá 10.   74,8 k  pauza      2\n",
       "8   so 11.   74,3kg   3 km      2\n",
       "9    ne 12  75,2 kg   4 km      2\n",
       "10  po 13.  74,5 kg    NaN      2\n",
       "11  út 14.  74,2 kg  pauza      2\n",
       "12  st 15.  74,1 kg   3 km      2\n",
       "13   čt 16  73,8 kg    3km      2"
      ]
     },
     "execution_count": 18,
     "metadata": {},
     "output_type": "execute_result"
    }
   ],
   "source": [
    "vaha = pandas.read_csv(\"vaha.txt\", encoding=\"utf-8\", sep=\"\\t\")\n",
    "vaha"
   ]
  },
  {
   "cell_type": "code",
   "execution_count": 19,
   "metadata": {},
   "outputs": [
    {
     "data": {
      "text/plain": [
       "den      object\n",
       "váha     object\n",
       "běh      object\n",
       "týden     int64\n",
       "dtype: object"
      ]
     },
     "execution_count": 19,
     "metadata": {},
     "output_type": "execute_result"
    }
   ],
   "source": [
    "vaha.dtypes"
   ]
  },
  {
   "cell_type": "markdown",
   "metadata": {},
   "source": [
    "Conclusion: Kristián je trochu prase, aneb data v praxi."
   ]
  },
  {
   "cell_type": "markdown",
   "metadata": {},
   "source": [
    "Nejprve transformujeme sloupec `den` na číslo dne. Sloupec `den` je uložen vždy jako `2pismenny_nazev_dne cislo_dne`, některá čísla navíc končí tečkou."
   ]
  },
  {
   "cell_type": "markdown",
   "metadata": {},
   "source": [
    "### Zahodíme názvy dnů"
   ]
  },
  {
   "cell_type": "code",
   "execution_count": 20,
   "metadata": {},
   "outputs": [
    {
     "data": {
      "text/plain": [
       "0      pá 3.\n",
       "1      so 4.\n",
       "2      ne 5.\n",
       "3      po 6.\n",
       "4       út 7\n",
       "5      st 8.\n",
       "6      čt 9.\n",
       "7     pá 10.\n",
       "8     so 11.\n",
       "9      ne 12\n",
       "10    po 13.\n",
       "11    út 14.\n",
       "12    st 15.\n",
       "13     čt 16\n",
       "Name: den, dtype: object"
      ]
     },
     "execution_count": 20,
     "metadata": {},
     "output_type": "execute_result"
    }
   ],
   "source": [
    "dny = vaha[\"den\"]\n",
    "dny"
   ]
  },
  {
   "cell_type": "code",
   "execution_count": 21,
   "metadata": {},
   "outputs": [
    {
     "data": {
      "text/plain": [
       "0      3.\n",
       "1      4.\n",
       "2      5.\n",
       "3      6.\n",
       "4       7\n",
       "5      8.\n",
       "6      9.\n",
       "7     10.\n",
       "8     11.\n",
       "9      12\n",
       "10    13.\n",
       "11    14.\n",
       "12    15.\n",
       "13     16\n",
       "Name: den, dtype: object"
      ]
     },
     "execution_count": 21,
     "metadata": {},
     "output_type": "execute_result"
    }
   ],
   "source": [
    "cislo_dne = dny.str[3:]\n",
    "cislo_dne"
   ]
  },
  {
   "cell_type": "markdown",
   "metadata": {},
   "source": [
    "### Zahodíme tečky"
   ]
  },
  {
   "cell_type": "code",
   "execution_count": 22,
   "metadata": {},
   "outputs": [
    {
     "data": {
      "text/plain": [
       "0      3\n",
       "1      4\n",
       "2      5\n",
       "3      6\n",
       "4      7\n",
       "5      8\n",
       "6      9\n",
       "7     10\n",
       "8     11\n",
       "9     12\n",
       "10    13\n",
       "11    14\n",
       "12    15\n",
       "13    16\n",
       "Name: den, dtype: object"
      ]
     },
     "execution_count": 22,
     "metadata": {},
     "output_type": "execute_result"
    }
   ],
   "source": [
    "cislo_dne = cislo_dne.str.replace(\".\", \"\")\n",
    "cislo_dne"
   ]
  },
  {
   "cell_type": "markdown",
   "metadata": {},
   "source": [
    "### Převedeme na čísla"
   ]
  },
  {
   "cell_type": "code",
   "execution_count": 23,
   "metadata": {},
   "outputs": [
    {
     "data": {
      "text/plain": [
       "0      3\n",
       "1      4\n",
       "2      5\n",
       "3      6\n",
       "4      7\n",
       "5      8\n",
       "6      9\n",
       "7     10\n",
       "8     11\n",
       "9     12\n",
       "10    13\n",
       "11    14\n",
       "12    15\n",
       "13    16\n",
       "Name: den, dtype: int64"
      ]
     },
     "execution_count": 23,
     "metadata": {},
     "output_type": "execute_result"
    }
   ],
   "source": [
    "cislo_dne = pandas.to_numeric(cislo_dne)\n",
    "cislo_dne"
   ]
  },
  {
   "cell_type": "markdown",
   "metadata": {},
   "source": [
    "### Uložíme ještě název dne"
   ]
  },
  {
   "cell_type": "code",
   "execution_count": 24,
   "metadata": {},
   "outputs": [
    {
     "data": {
      "text/plain": [
       "0      pá 3.\n",
       "1      so 4.\n",
       "2      ne 5.\n",
       "3      po 6.\n",
       "4       út 7\n",
       "5      st 8.\n",
       "6      čt 9.\n",
       "7     pá 10.\n",
       "8     so 11.\n",
       "9      ne 12\n",
       "10    po 13.\n",
       "11    út 14.\n",
       "12    st 15.\n",
       "13     čt 16\n",
       "Name: den, dtype: object"
      ]
     },
     "execution_count": 24,
     "metadata": {},
     "output_type": "execute_result"
    }
   ],
   "source": [
    "dny"
   ]
  },
  {
   "cell_type": "code",
   "execution_count": 25,
   "metadata": {},
   "outputs": [
    {
     "data": {
      "text/plain": [
       "0     pá\n",
       "1     so\n",
       "2     ne\n",
       "3     po\n",
       "4     út\n",
       "5     st\n",
       "6     čt\n",
       "7     pá\n",
       "8     so\n",
       "9     ne\n",
       "10    po\n",
       "11    út\n",
       "12    st\n",
       "13    čt\n",
       "Name: den, dtype: object"
      ]
     },
     "execution_count": 25,
     "metadata": {},
     "output_type": "execute_result"
    }
   ],
   "source": [
    "nazev_dne = dny.str[:2]\n",
    "nazev_dne"
   ]
  },
  {
   "cell_type": "markdown",
   "metadata": {},
   "source": [
    "### Obojí uložíme do dataframe"
   ]
  },
  {
   "cell_type": "code",
   "execution_count": 26,
   "metadata": {},
   "outputs": [
    {
     "data": {
      "text/html": [
       "<div>\n",
       "<style scoped>\n",
       "    .dataframe tbody tr th:only-of-type {\n",
       "        vertical-align: middle;\n",
       "    }\n",
       "\n",
       "    .dataframe tbody tr th {\n",
       "        vertical-align: top;\n",
       "    }\n",
       "\n",
       "    .dataframe thead th {\n",
       "        text-align: right;\n",
       "    }\n",
       "</style>\n",
       "<table border=\"1\" class=\"dataframe\">\n",
       "  <thead>\n",
       "    <tr style=\"text-align: right;\">\n",
       "      <th></th>\n",
       "      <th>váha</th>\n",
       "      <th>běh</th>\n",
       "      <th>týden</th>\n",
       "    </tr>\n",
       "  </thead>\n",
       "  <tbody>\n",
       "    <tr>\n",
       "      <th>0</th>\n",
       "      <td>75,6 kg</td>\n",
       "      <td>3 km</td>\n",
       "      <td>1</td>\n",
       "    </tr>\n",
       "    <tr>\n",
       "      <th>1</th>\n",
       "      <td>75,3 kh</td>\n",
       "      <td>pauza</td>\n",
       "      <td>1</td>\n",
       "    </tr>\n",
       "    <tr>\n",
       "      <th>2</th>\n",
       "      <td>75,9kg</td>\n",
       "      <td>pauza</td>\n",
       "      <td>1</td>\n",
       "    </tr>\n",
       "    <tr>\n",
       "      <th>3</th>\n",
       "      <td>76,1 kg</td>\n",
       "      <td>2 km</td>\n",
       "      <td>1</td>\n",
       "    </tr>\n",
       "    <tr>\n",
       "      <th>4</th>\n",
       "      <td>75,4 kg</td>\n",
       "      <td>paza</td>\n",
       "      <td>1</td>\n",
       "    </tr>\n",
       "    <tr>\n",
       "      <th>5</th>\n",
       "      <td>75kg</td>\n",
       "      <td>pauza</td>\n",
       "      <td>1</td>\n",
       "    </tr>\n",
       "    <tr>\n",
       "      <th>6</th>\n",
       "      <td>74,9 kg</td>\n",
       "      <td>3</td>\n",
       "      <td>1</td>\n",
       "    </tr>\n",
       "    <tr>\n",
       "      <th>7</th>\n",
       "      <td>74,8 k</td>\n",
       "      <td>pauza</td>\n",
       "      <td>2</td>\n",
       "    </tr>\n",
       "    <tr>\n",
       "      <th>8</th>\n",
       "      <td>74,3kg</td>\n",
       "      <td>3 km</td>\n",
       "      <td>2</td>\n",
       "    </tr>\n",
       "    <tr>\n",
       "      <th>9</th>\n",
       "      <td>75,2 kg</td>\n",
       "      <td>4 km</td>\n",
       "      <td>2</td>\n",
       "    </tr>\n",
       "    <tr>\n",
       "      <th>10</th>\n",
       "      <td>74,5 kg</td>\n",
       "      <td>NaN</td>\n",
       "      <td>2</td>\n",
       "    </tr>\n",
       "    <tr>\n",
       "      <th>11</th>\n",
       "      <td>74,2 kg</td>\n",
       "      <td>pauza</td>\n",
       "      <td>2</td>\n",
       "    </tr>\n",
       "    <tr>\n",
       "      <th>12</th>\n",
       "      <td>74,1 kg</td>\n",
       "      <td>3 km</td>\n",
       "      <td>2</td>\n",
       "    </tr>\n",
       "    <tr>\n",
       "      <th>13</th>\n",
       "      <td>73,8 kg</td>\n",
       "      <td>3km</td>\n",
       "      <td>2</td>\n",
       "    </tr>\n",
       "  </tbody>\n",
       "</table>\n",
       "</div>"
      ],
      "text/plain": [
       "       váha    běh  týden\n",
       "0   75,6 kg   3 km      1\n",
       "1   75,3 kh  pauza      1\n",
       "2    75,9kg  pauza      1\n",
       "3   76,1 kg   2 km      1\n",
       "4   75,4 kg   paza      1\n",
       "5      75kg  pauza      1\n",
       "6   74,9 kg      3      1\n",
       "7    74,8 k  pauza      2\n",
       "8    74,3kg   3 km      2\n",
       "9   75,2 kg   4 km      2\n",
       "10  74,5 kg    NaN      2\n",
       "11  74,2 kg  pauza      2\n",
       "12  74,1 kg   3 km      2\n",
       "13  73,8 kg    3km      2"
      ]
     },
     "execution_count": 26,
     "metadata": {},
     "output_type": "execute_result"
    }
   ],
   "source": [
    "vaha.drop(\"den\", axis=\"columns\", inplace=True)\n",
    "vaha"
   ]
  },
  {
   "cell_type": "code",
   "execution_count": 27,
   "metadata": {},
   "outputs": [
    {
     "data": {
      "text/html": [
       "<div>\n",
       "<style scoped>\n",
       "    .dataframe tbody tr th:only-of-type {\n",
       "        vertical-align: middle;\n",
       "    }\n",
       "\n",
       "    .dataframe tbody tr th {\n",
       "        vertical-align: top;\n",
       "    }\n",
       "\n",
       "    .dataframe thead th {\n",
       "        text-align: right;\n",
       "    }\n",
       "</style>\n",
       "<table border=\"1\" class=\"dataframe\">\n",
       "  <thead>\n",
       "    <tr style=\"text-align: right;\">\n",
       "      <th></th>\n",
       "      <th>váha</th>\n",
       "      <th>běh</th>\n",
       "      <th>týden</th>\n",
       "      <th>číslo_dne</th>\n",
       "      <th>název_dne</th>\n",
       "    </tr>\n",
       "  </thead>\n",
       "  <tbody>\n",
       "    <tr>\n",
       "      <th>0</th>\n",
       "      <td>75,6 kg</td>\n",
       "      <td>3 km</td>\n",
       "      <td>1</td>\n",
       "      <td>3</td>\n",
       "      <td>pá</td>\n",
       "    </tr>\n",
       "    <tr>\n",
       "      <th>1</th>\n",
       "      <td>75,3 kh</td>\n",
       "      <td>pauza</td>\n",
       "      <td>1</td>\n",
       "      <td>4</td>\n",
       "      <td>so</td>\n",
       "    </tr>\n",
       "    <tr>\n",
       "      <th>2</th>\n",
       "      <td>75,9kg</td>\n",
       "      <td>pauza</td>\n",
       "      <td>1</td>\n",
       "      <td>5</td>\n",
       "      <td>ne</td>\n",
       "    </tr>\n",
       "    <tr>\n",
       "      <th>3</th>\n",
       "      <td>76,1 kg</td>\n",
       "      <td>2 km</td>\n",
       "      <td>1</td>\n",
       "      <td>6</td>\n",
       "      <td>po</td>\n",
       "    </tr>\n",
       "    <tr>\n",
       "      <th>4</th>\n",
       "      <td>75,4 kg</td>\n",
       "      <td>paza</td>\n",
       "      <td>1</td>\n",
       "      <td>7</td>\n",
       "      <td>út</td>\n",
       "    </tr>\n",
       "    <tr>\n",
       "      <th>5</th>\n",
       "      <td>75kg</td>\n",
       "      <td>pauza</td>\n",
       "      <td>1</td>\n",
       "      <td>8</td>\n",
       "      <td>st</td>\n",
       "    </tr>\n",
       "    <tr>\n",
       "      <th>6</th>\n",
       "      <td>74,9 kg</td>\n",
       "      <td>3</td>\n",
       "      <td>1</td>\n",
       "      <td>9</td>\n",
       "      <td>čt</td>\n",
       "    </tr>\n",
       "    <tr>\n",
       "      <th>7</th>\n",
       "      <td>74,8 k</td>\n",
       "      <td>pauza</td>\n",
       "      <td>2</td>\n",
       "      <td>10</td>\n",
       "      <td>pá</td>\n",
       "    </tr>\n",
       "    <tr>\n",
       "      <th>8</th>\n",
       "      <td>74,3kg</td>\n",
       "      <td>3 km</td>\n",
       "      <td>2</td>\n",
       "      <td>11</td>\n",
       "      <td>so</td>\n",
       "    </tr>\n",
       "    <tr>\n",
       "      <th>9</th>\n",
       "      <td>75,2 kg</td>\n",
       "      <td>4 km</td>\n",
       "      <td>2</td>\n",
       "      <td>12</td>\n",
       "      <td>ne</td>\n",
       "    </tr>\n",
       "    <tr>\n",
       "      <th>10</th>\n",
       "      <td>74,5 kg</td>\n",
       "      <td>NaN</td>\n",
       "      <td>2</td>\n",
       "      <td>13</td>\n",
       "      <td>po</td>\n",
       "    </tr>\n",
       "    <tr>\n",
       "      <th>11</th>\n",
       "      <td>74,2 kg</td>\n",
       "      <td>pauza</td>\n",
       "      <td>2</td>\n",
       "      <td>14</td>\n",
       "      <td>út</td>\n",
       "    </tr>\n",
       "    <tr>\n",
       "      <th>12</th>\n",
       "      <td>74,1 kg</td>\n",
       "      <td>3 km</td>\n",
       "      <td>2</td>\n",
       "      <td>15</td>\n",
       "      <td>st</td>\n",
       "    </tr>\n",
       "    <tr>\n",
       "      <th>13</th>\n",
       "      <td>73,8 kg</td>\n",
       "      <td>3km</td>\n",
       "      <td>2</td>\n",
       "      <td>16</td>\n",
       "      <td>čt</td>\n",
       "    </tr>\n",
       "  </tbody>\n",
       "</table>\n",
       "</div>"
      ],
      "text/plain": [
       "       váha    běh  týden  číslo_dne název_dne\n",
       "0   75,6 kg   3 km      1          3        pá\n",
       "1   75,3 kh  pauza      1          4        so\n",
       "2    75,9kg  pauza      1          5        ne\n",
       "3   76,1 kg   2 km      1          6        po\n",
       "4   75,4 kg   paza      1          7        út\n",
       "5      75kg  pauza      1          8        st\n",
       "6   74,9 kg      3      1          9        čt\n",
       "7    74,8 k  pauza      2         10        pá\n",
       "8    74,3kg   3 km      2         11        so\n",
       "9   75,2 kg   4 km      2         12        ne\n",
       "10  74,5 kg    NaN      2         13        po\n",
       "11  74,2 kg  pauza      2         14        út\n",
       "12  74,1 kg   3 km      2         15        st\n",
       "13  73,8 kg    3km      2         16        čt"
      ]
     },
     "execution_count": 27,
     "metadata": {},
     "output_type": "execute_result"
    }
   ],
   "source": [
    "vaha[\"číslo_dne\"] = cislo_dne\n",
    "vaha[\"název_dne\"] = nazev_dne\n",
    "vaha"
   ]
  },
  {
   "cell_type": "code",
   "execution_count": 28,
   "metadata": {},
   "outputs": [
    {
     "data": {
      "text/plain": [
       "váha         object\n",
       "běh          object\n",
       "týden         int64\n",
       "číslo_dne     int64\n",
       "název_dne    object\n",
       "dtype: object"
      ]
     },
     "execution_count": 28,
     "metadata": {},
     "output_type": "execute_result"
    }
   ],
   "source": [
    "vaha.dtypes"
   ]
  },
  {
   "cell_type": "markdown",
   "metadata": {},
   "source": [
    "Tím máme slušně uložené údaje o dnech."
   ]
  },
  {
   "cell_type": "markdown",
   "metadata": {},
   "source": [
    "## 3. Chroustání Series"
   ]
  },
  {
   "cell_type": "markdown",
   "metadata": {},
   "source": [
    "Zde budeme transformovat sloupec `váha`."
   ]
  },
  {
   "cell_type": "code",
   "execution_count": 29,
   "metadata": {},
   "outputs": [
    {
     "data": {
      "text/html": [
       "<div>\n",
       "<style scoped>\n",
       "    .dataframe tbody tr th:only-of-type {\n",
       "        vertical-align: middle;\n",
       "    }\n",
       "\n",
       "    .dataframe tbody tr th {\n",
       "        vertical-align: top;\n",
       "    }\n",
       "\n",
       "    .dataframe thead th {\n",
       "        text-align: right;\n",
       "    }\n",
       "</style>\n",
       "<table border=\"1\" class=\"dataframe\">\n",
       "  <thead>\n",
       "    <tr style=\"text-align: right;\">\n",
       "      <th></th>\n",
       "      <th>váha</th>\n",
       "      <th>běh</th>\n",
       "      <th>týden</th>\n",
       "      <th>číslo_dne</th>\n",
       "      <th>název_dne</th>\n",
       "    </tr>\n",
       "  </thead>\n",
       "  <tbody>\n",
       "    <tr>\n",
       "      <th>0</th>\n",
       "      <td>75,6 kg</td>\n",
       "      <td>3 km</td>\n",
       "      <td>1</td>\n",
       "      <td>3</td>\n",
       "      <td>pá</td>\n",
       "    </tr>\n",
       "    <tr>\n",
       "      <th>1</th>\n",
       "      <td>75,3 kh</td>\n",
       "      <td>pauza</td>\n",
       "      <td>1</td>\n",
       "      <td>4</td>\n",
       "      <td>so</td>\n",
       "    </tr>\n",
       "    <tr>\n",
       "      <th>2</th>\n",
       "      <td>75,9kg</td>\n",
       "      <td>pauza</td>\n",
       "      <td>1</td>\n",
       "      <td>5</td>\n",
       "      <td>ne</td>\n",
       "    </tr>\n",
       "    <tr>\n",
       "      <th>3</th>\n",
       "      <td>76,1 kg</td>\n",
       "      <td>2 km</td>\n",
       "      <td>1</td>\n",
       "      <td>6</td>\n",
       "      <td>po</td>\n",
       "    </tr>\n",
       "    <tr>\n",
       "      <th>4</th>\n",
       "      <td>75,4 kg</td>\n",
       "      <td>paza</td>\n",
       "      <td>1</td>\n",
       "      <td>7</td>\n",
       "      <td>út</td>\n",
       "    </tr>\n",
       "    <tr>\n",
       "      <th>5</th>\n",
       "      <td>75kg</td>\n",
       "      <td>pauza</td>\n",
       "      <td>1</td>\n",
       "      <td>8</td>\n",
       "      <td>st</td>\n",
       "    </tr>\n",
       "    <tr>\n",
       "      <th>6</th>\n",
       "      <td>74,9 kg</td>\n",
       "      <td>3</td>\n",
       "      <td>1</td>\n",
       "      <td>9</td>\n",
       "      <td>čt</td>\n",
       "    </tr>\n",
       "    <tr>\n",
       "      <th>7</th>\n",
       "      <td>74,8 k</td>\n",
       "      <td>pauza</td>\n",
       "      <td>2</td>\n",
       "      <td>10</td>\n",
       "      <td>pá</td>\n",
       "    </tr>\n",
       "    <tr>\n",
       "      <th>8</th>\n",
       "      <td>74,3kg</td>\n",
       "      <td>3 km</td>\n",
       "      <td>2</td>\n",
       "      <td>11</td>\n",
       "      <td>so</td>\n",
       "    </tr>\n",
       "    <tr>\n",
       "      <th>9</th>\n",
       "      <td>75,2 kg</td>\n",
       "      <td>4 km</td>\n",
       "      <td>2</td>\n",
       "      <td>12</td>\n",
       "      <td>ne</td>\n",
       "    </tr>\n",
       "    <tr>\n",
       "      <th>10</th>\n",
       "      <td>74,5 kg</td>\n",
       "      <td>NaN</td>\n",
       "      <td>2</td>\n",
       "      <td>13</td>\n",
       "      <td>po</td>\n",
       "    </tr>\n",
       "    <tr>\n",
       "      <th>11</th>\n",
       "      <td>74,2 kg</td>\n",
       "      <td>pauza</td>\n",
       "      <td>2</td>\n",
       "      <td>14</td>\n",
       "      <td>út</td>\n",
       "    </tr>\n",
       "    <tr>\n",
       "      <th>12</th>\n",
       "      <td>74,1 kg</td>\n",
       "      <td>3 km</td>\n",
       "      <td>2</td>\n",
       "      <td>15</td>\n",
       "      <td>st</td>\n",
       "    </tr>\n",
       "    <tr>\n",
       "      <th>13</th>\n",
       "      <td>73,8 kg</td>\n",
       "      <td>3km</td>\n",
       "      <td>2</td>\n",
       "      <td>16</td>\n",
       "      <td>čt</td>\n",
       "    </tr>\n",
       "  </tbody>\n",
       "</table>\n",
       "</div>"
      ],
      "text/plain": [
       "       váha    běh  týden  číslo_dne název_dne\n",
       "0   75,6 kg   3 km      1          3        pá\n",
       "1   75,3 kh  pauza      1          4        so\n",
       "2    75,9kg  pauza      1          5        ne\n",
       "3   76,1 kg   2 km      1          6        po\n",
       "4   75,4 kg   paza      1          7        út\n",
       "5      75kg  pauza      1          8        st\n",
       "6   74,9 kg      3      1          9        čt\n",
       "7    74,8 k  pauza      2         10        pá\n",
       "8    74,3kg   3 km      2         11        so\n",
       "9   75,2 kg   4 km      2         12        ne\n",
       "10  74,5 kg    NaN      2         13        po\n",
       "11  74,2 kg  pauza      2         14        út\n",
       "12  74,1 kg   3 km      2         15        st\n",
       "13  73,8 kg    3km      2         16        čt"
      ]
     },
     "execution_count": 29,
     "metadata": {},
     "output_type": "execute_result"
    }
   ],
   "source": [
    "vaha"
   ]
  },
  {
   "cell_type": "markdown",
   "metadata": {},
   "source": [
    "Jak se píše na kodim.cz: *Pokud se nám podaří rozdělit hodnotu podle mezery, můžeme první část převést na číslo. Pokud se to nepovede, můžeme dělit podle písmenka 'k'*\n",
    "\n",
    "Tento postup si definujeme jako funkci, kterou aplikujeme na sloupec `váha` prvek po prvku."
   ]
  },
  {
   "cell_type": "code",
   "execution_count": 30,
   "metadata": {},
   "outputs": [],
   "source": [
    "def prevod_vahy(vaha):\n",
    "    casti = vaha.split(\" \")\n",
    "    \n",
    "    if len(casti) < 2:\n",
    "        casti = vaha.split(\"k\")\n",
    "        \n",
    "    desetinna_tecka = casti[0].replace(\",\", \".\")\n",
    "    return float(desetinna_tecka)"
   ]
  },
  {
   "cell_type": "markdown",
   "metadata": {},
   "source": [
    "Takto definovanou funkci nyní použijeme jako parametr funkce `apply` volané na sloupci `váha`. Funkce `apply` vezme námi definovanou funkci, a aplikuje ji na každý prvek daného sloupce. Výsledkem je sloupec výsledků naší funkce."
   ]
  },
  {
   "cell_type": "code",
   "execution_count": 31,
   "metadata": {},
   "outputs": [
    {
     "data": {
      "text/html": [
       "<div>\n",
       "<style scoped>\n",
       "    .dataframe tbody tr th:only-of-type {\n",
       "        vertical-align: middle;\n",
       "    }\n",
       "\n",
       "    .dataframe tbody tr th {\n",
       "        vertical-align: top;\n",
       "    }\n",
       "\n",
       "    .dataframe thead th {\n",
       "        text-align: right;\n",
       "    }\n",
       "</style>\n",
       "<table border=\"1\" class=\"dataframe\">\n",
       "  <thead>\n",
       "    <tr style=\"text-align: right;\">\n",
       "      <th></th>\n",
       "      <th>váha</th>\n",
       "      <th>běh</th>\n",
       "      <th>týden</th>\n",
       "      <th>číslo_dne</th>\n",
       "      <th>název_dne</th>\n",
       "    </tr>\n",
       "  </thead>\n",
       "  <tbody>\n",
       "    <tr>\n",
       "      <th>0</th>\n",
       "      <td>75.6</td>\n",
       "      <td>3 km</td>\n",
       "      <td>1</td>\n",
       "      <td>3</td>\n",
       "      <td>pá</td>\n",
       "    </tr>\n",
       "    <tr>\n",
       "      <th>1</th>\n",
       "      <td>75.3</td>\n",
       "      <td>pauza</td>\n",
       "      <td>1</td>\n",
       "      <td>4</td>\n",
       "      <td>so</td>\n",
       "    </tr>\n",
       "    <tr>\n",
       "      <th>2</th>\n",
       "      <td>75.9</td>\n",
       "      <td>pauza</td>\n",
       "      <td>1</td>\n",
       "      <td>5</td>\n",
       "      <td>ne</td>\n",
       "    </tr>\n",
       "    <tr>\n",
       "      <th>3</th>\n",
       "      <td>76.1</td>\n",
       "      <td>2 km</td>\n",
       "      <td>1</td>\n",
       "      <td>6</td>\n",
       "      <td>po</td>\n",
       "    </tr>\n",
       "    <tr>\n",
       "      <th>4</th>\n",
       "      <td>75.4</td>\n",
       "      <td>paza</td>\n",
       "      <td>1</td>\n",
       "      <td>7</td>\n",
       "      <td>út</td>\n",
       "    </tr>\n",
       "    <tr>\n",
       "      <th>5</th>\n",
       "      <td>75.0</td>\n",
       "      <td>pauza</td>\n",
       "      <td>1</td>\n",
       "      <td>8</td>\n",
       "      <td>st</td>\n",
       "    </tr>\n",
       "    <tr>\n",
       "      <th>6</th>\n",
       "      <td>74.9</td>\n",
       "      <td>3</td>\n",
       "      <td>1</td>\n",
       "      <td>9</td>\n",
       "      <td>čt</td>\n",
       "    </tr>\n",
       "    <tr>\n",
       "      <th>7</th>\n",
       "      <td>74.8</td>\n",
       "      <td>pauza</td>\n",
       "      <td>2</td>\n",
       "      <td>10</td>\n",
       "      <td>pá</td>\n",
       "    </tr>\n",
       "    <tr>\n",
       "      <th>8</th>\n",
       "      <td>74.3</td>\n",
       "      <td>3 km</td>\n",
       "      <td>2</td>\n",
       "      <td>11</td>\n",
       "      <td>so</td>\n",
       "    </tr>\n",
       "    <tr>\n",
       "      <th>9</th>\n",
       "      <td>75.2</td>\n",
       "      <td>4 km</td>\n",
       "      <td>2</td>\n",
       "      <td>12</td>\n",
       "      <td>ne</td>\n",
       "    </tr>\n",
       "    <tr>\n",
       "      <th>10</th>\n",
       "      <td>74.5</td>\n",
       "      <td>NaN</td>\n",
       "      <td>2</td>\n",
       "      <td>13</td>\n",
       "      <td>po</td>\n",
       "    </tr>\n",
       "    <tr>\n",
       "      <th>11</th>\n",
       "      <td>74.2</td>\n",
       "      <td>pauza</td>\n",
       "      <td>2</td>\n",
       "      <td>14</td>\n",
       "      <td>út</td>\n",
       "    </tr>\n",
       "    <tr>\n",
       "      <th>12</th>\n",
       "      <td>74.1</td>\n",
       "      <td>3 km</td>\n",
       "      <td>2</td>\n",
       "      <td>15</td>\n",
       "      <td>st</td>\n",
       "    </tr>\n",
       "    <tr>\n",
       "      <th>13</th>\n",
       "      <td>73.8</td>\n",
       "      <td>3km</td>\n",
       "      <td>2</td>\n",
       "      <td>16</td>\n",
       "      <td>čt</td>\n",
       "    </tr>\n",
       "  </tbody>\n",
       "</table>\n",
       "</div>"
      ],
      "text/plain": [
       "    váha    běh  týden  číslo_dne název_dne\n",
       "0   75.6   3 km      1          3        pá\n",
       "1   75.3  pauza      1          4        so\n",
       "2   75.9  pauza      1          5        ne\n",
       "3   76.1   2 km      1          6        po\n",
       "4   75.4   paza      1          7        út\n",
       "5   75.0  pauza      1          8        st\n",
       "6   74.9      3      1          9        čt\n",
       "7   74.8  pauza      2         10        pá\n",
       "8   74.3   3 km      2         11        so\n",
       "9   75.2   4 km      2         12        ne\n",
       "10  74.5    NaN      2         13        po\n",
       "11  74.2  pauza      2         14        út\n",
       "12  74.1   3 km      2         15        st\n",
       "13  73.8    3km      2         16        čt"
      ]
     },
     "execution_count": 31,
     "metadata": {},
     "output_type": "execute_result"
    }
   ],
   "source": [
    "vaha[\"váha\"] = vaha[\"váha\"].apply(prevod_vahy)\n",
    "vaha"
   ]
  },
  {
   "cell_type": "code",
   "execution_count": 32,
   "metadata": {},
   "outputs": [
    {
     "data": {
      "text/plain": [
       "váha         float64\n",
       "běh           object\n",
       "týden          int64\n",
       "číslo_dne      int64\n",
       "název_dne     object\n",
       "dtype: object"
      ]
     },
     "execution_count": 32,
     "metadata": {},
     "output_type": "execute_result"
    }
   ],
   "source": [
    "vaha.dtypes"
   ]
  },
  {
   "cell_type": "markdown",
   "metadata": {},
   "source": [
    "Ještě by bylo fajn upravit sloupec `běh`."
   ]
  },
  {
   "cell_type": "code",
   "execution_count": 33,
   "metadata": {},
   "outputs": [],
   "source": [
    "def prevod_behu(beh):\n",
    "    if beh == \"pauza\" or beh == \"paza\":\n",
    "        return 0\n",
    "    elif pandas.isnull(beh):\n",
    "        return beh\n",
    "    else:\n",
    "        casti = beh.split(\" \")\n",
    "        \n",
    "        if len(casti) < 2:\n",
    "            casti = beh.split(\"k\")\n",
    "            \n",
    "        return float(casti[0])"
   ]
  },
  {
   "cell_type": "code",
   "execution_count": 34,
   "metadata": {},
   "outputs": [
    {
     "data": {
      "text/html": [
       "<div>\n",
       "<style scoped>\n",
       "    .dataframe tbody tr th:only-of-type {\n",
       "        vertical-align: middle;\n",
       "    }\n",
       "\n",
       "    .dataframe tbody tr th {\n",
       "        vertical-align: top;\n",
       "    }\n",
       "\n",
       "    .dataframe thead th {\n",
       "        text-align: right;\n",
       "    }\n",
       "</style>\n",
       "<table border=\"1\" class=\"dataframe\">\n",
       "  <thead>\n",
       "    <tr style=\"text-align: right;\">\n",
       "      <th></th>\n",
       "      <th>váha</th>\n",
       "      <th>běh</th>\n",
       "      <th>týden</th>\n",
       "      <th>číslo_dne</th>\n",
       "      <th>název_dne</th>\n",
       "    </tr>\n",
       "  </thead>\n",
       "  <tbody>\n",
       "    <tr>\n",
       "      <th>0</th>\n",
       "      <td>75.6</td>\n",
       "      <td>3.0</td>\n",
       "      <td>1</td>\n",
       "      <td>3</td>\n",
       "      <td>pá</td>\n",
       "    </tr>\n",
       "    <tr>\n",
       "      <th>1</th>\n",
       "      <td>75.3</td>\n",
       "      <td>0.0</td>\n",
       "      <td>1</td>\n",
       "      <td>4</td>\n",
       "      <td>so</td>\n",
       "    </tr>\n",
       "    <tr>\n",
       "      <th>2</th>\n",
       "      <td>75.9</td>\n",
       "      <td>0.0</td>\n",
       "      <td>1</td>\n",
       "      <td>5</td>\n",
       "      <td>ne</td>\n",
       "    </tr>\n",
       "    <tr>\n",
       "      <th>3</th>\n",
       "      <td>76.1</td>\n",
       "      <td>2.0</td>\n",
       "      <td>1</td>\n",
       "      <td>6</td>\n",
       "      <td>po</td>\n",
       "    </tr>\n",
       "    <tr>\n",
       "      <th>4</th>\n",
       "      <td>75.4</td>\n",
       "      <td>0.0</td>\n",
       "      <td>1</td>\n",
       "      <td>7</td>\n",
       "      <td>út</td>\n",
       "    </tr>\n",
       "    <tr>\n",
       "      <th>5</th>\n",
       "      <td>75.0</td>\n",
       "      <td>0.0</td>\n",
       "      <td>1</td>\n",
       "      <td>8</td>\n",
       "      <td>st</td>\n",
       "    </tr>\n",
       "    <tr>\n",
       "      <th>6</th>\n",
       "      <td>74.9</td>\n",
       "      <td>3.0</td>\n",
       "      <td>1</td>\n",
       "      <td>9</td>\n",
       "      <td>čt</td>\n",
       "    </tr>\n",
       "    <tr>\n",
       "      <th>7</th>\n",
       "      <td>74.8</td>\n",
       "      <td>0.0</td>\n",
       "      <td>2</td>\n",
       "      <td>10</td>\n",
       "      <td>pá</td>\n",
       "    </tr>\n",
       "    <tr>\n",
       "      <th>8</th>\n",
       "      <td>74.3</td>\n",
       "      <td>3.0</td>\n",
       "      <td>2</td>\n",
       "      <td>11</td>\n",
       "      <td>so</td>\n",
       "    </tr>\n",
       "    <tr>\n",
       "      <th>9</th>\n",
       "      <td>75.2</td>\n",
       "      <td>4.0</td>\n",
       "      <td>2</td>\n",
       "      <td>12</td>\n",
       "      <td>ne</td>\n",
       "    </tr>\n",
       "    <tr>\n",
       "      <th>10</th>\n",
       "      <td>74.5</td>\n",
       "      <td>NaN</td>\n",
       "      <td>2</td>\n",
       "      <td>13</td>\n",
       "      <td>po</td>\n",
       "    </tr>\n",
       "    <tr>\n",
       "      <th>11</th>\n",
       "      <td>74.2</td>\n",
       "      <td>0.0</td>\n",
       "      <td>2</td>\n",
       "      <td>14</td>\n",
       "      <td>út</td>\n",
       "    </tr>\n",
       "    <tr>\n",
       "      <th>12</th>\n",
       "      <td>74.1</td>\n",
       "      <td>3.0</td>\n",
       "      <td>2</td>\n",
       "      <td>15</td>\n",
       "      <td>st</td>\n",
       "    </tr>\n",
       "    <tr>\n",
       "      <th>13</th>\n",
       "      <td>73.8</td>\n",
       "      <td>3.0</td>\n",
       "      <td>2</td>\n",
       "      <td>16</td>\n",
       "      <td>čt</td>\n",
       "    </tr>\n",
       "  </tbody>\n",
       "</table>\n",
       "</div>"
      ],
      "text/plain": [
       "    váha  běh  týden  číslo_dne název_dne\n",
       "0   75.6  3.0      1          3        pá\n",
       "1   75.3  0.0      1          4        so\n",
       "2   75.9  0.0      1          5        ne\n",
       "3   76.1  2.0      1          6        po\n",
       "4   75.4  0.0      1          7        út\n",
       "5   75.0  0.0      1          8        st\n",
       "6   74.9  3.0      1          9        čt\n",
       "7   74.8  0.0      2         10        pá\n",
       "8   74.3  3.0      2         11        so\n",
       "9   75.2  4.0      2         12        ne\n",
       "10  74.5  NaN      2         13        po\n",
       "11  74.2  0.0      2         14        út\n",
       "12  74.1  3.0      2         15        st\n",
       "13  73.8  3.0      2         16        čt"
      ]
     },
     "execution_count": 34,
     "metadata": {},
     "output_type": "execute_result"
    }
   ],
   "source": [
    "vaha[\"běh\"] = vaha[\"běh\"].apply(prevod_behu)\n",
    "vaha"
   ]
  },
  {
   "cell_type": "code",
   "execution_count": 35,
   "metadata": {},
   "outputs": [
    {
     "data": {
      "text/plain": [
       "váha         float64\n",
       "běh          float64\n",
       "týden          int64\n",
       "číslo_dne      int64\n",
       "název_dne     object\n",
       "dtype: object"
      ]
     },
     "execution_count": 35,
     "metadata": {},
     "output_type": "execute_result"
    }
   ],
   "source": [
    "vaha.dtypes"
   ]
  },
  {
   "cell_type": "markdown",
   "metadata": {},
   "source": [
    "## 4. Vlastní agregační funkce"
   ]
  },
  {
   "cell_type": "markdown",
   "metadata": {},
   "source": [
    "Definujeme si vlastní agregační funkci, podobně jako jsme posledně viděli funkce `mean`, `std` a podobné, volané na výsledku operace `groupby`."
   ]
  },
  {
   "cell_type": "markdown",
   "metadata": {},
   "source": [
    "Data seskupíme podle týdne a v každém týdnu napočítáme nějakou funkci váhy. Zde např. průměrnou váhu v každém týdnu."
   ]
  },
  {
   "cell_type": "code",
   "execution_count": 36,
   "metadata": {},
   "outputs": [
    {
     "data": {
      "text/plain": [
       "týden\n",
       "1    75.457143\n",
       "2    74.414286\n",
       "Name: váha, dtype: float64"
      ]
     },
     "execution_count": 36,
     "metadata": {},
     "output_type": "execute_result"
    }
   ],
   "source": [
    "vaha.groupby(\"týden\")[\"váha\"].mean()"
   ]
  },
  {
   "cell_type": "markdown",
   "metadata": {},
   "source": [
    "Budeme počítat tzv. rozpětí (spread) -- rozdíl mezi maximální a minimální hodnotou. Takovou funkci pandas nenabízí, musíme si ji tedy napsat sami.\n",
    "\n",
    "Funkce jako argument dostane pandas series (sloupec) a jako výsledek vrátí jeho rozpětí."
   ]
  },
  {
   "cell_type": "code",
   "execution_count": 37,
   "metadata": {},
   "outputs": [],
   "source": [
    "def spread(series):\n",
    "    return series.max() - series.min()"
   ]
  },
  {
   "cell_type": "markdown",
   "metadata": {},
   "source": [
    "Nejprve funkci aplikujeme na jediný sloupec. Tím dostaneme rozpětí vah za celé sledované období."
   ]
  },
  {
   "cell_type": "code",
   "execution_count": 38,
   "metadata": {},
   "outputs": [
    {
     "data": {
      "text/plain": [
       "2.299999999999997"
      ]
     },
     "execution_count": 38,
     "metadata": {},
     "output_type": "execute_result"
    }
   ],
   "source": [
    "vaha[\"váha\"].agg(spread)"
   ]
  },
  {
   "cell_type": "markdown",
   "metadata": {},
   "source": [
    "A teď na groupby objekt -- za každý týden dostaneme rozpětí vah."
   ]
  },
  {
   "cell_type": "code",
   "execution_count": 39,
   "metadata": {},
   "outputs": [
    {
     "data": {
      "text/plain": [
       "týden\n",
       "1    1.2\n",
       "2    1.4\n",
       "Name: váha, dtype: float64"
      ]
     },
     "execution_count": 39,
     "metadata": {},
     "output_type": "execute_result"
    }
   ],
   "source": [
    "vaha.groupby(\"týden\")[\"váha\"].agg(spread)"
   ]
  },
  {
   "cell_type": "code",
   "execution_count": null,
   "metadata": {},
   "outputs": [],
   "source": []
  }
 ],
 "metadata": {
  "kernelspec": {
   "display_name": "Python 3",
   "language": "python",
   "name": "python3"
  },
  "language_info": {
   "codemirror_mode": {
    "name": "ipython",
    "version": 3
   },
   "file_extension": ".py",
   "mimetype": "text/x-python",
   "name": "python",
   "nbconvert_exporter": "python",
   "pygments_lexer": "ipython3",
   "version": "3.7.7"
  }
 },
 "nbformat": 4,
 "nbformat_minor": 4
}
