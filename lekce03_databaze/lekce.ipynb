{
 "cells": [
  {
   "cell_type": "markdown",
   "metadata": {},
   "source": [
    "# Databáze"
   ]
  },
  {
   "cell_type": "markdown",
   "metadata": {},
   "source": [
    "V této lekci si ukážeme, jak se dá z pandas připojit k databázi. To nám umožní psát v rámci Pythonu SQL dotazy a jako výsledky dostávat dataframes. Ukážeme si pár příkladů a porovnáme rozdíly mezi zpracováním dat v databázi a v Pandas.\n",
    "\n",
    "Nejdřív si ale ukážeme nějakou další práci s textovými řetězci, která se nám bude hodit při psaní SQL dotazů."
   ]
  },
  {
   "cell_type": "markdown",
   "metadata": {},
   "source": [
    "## 1. Víceřádkové stringy a další formátování"
   ]
  },
  {
   "cell_type": "markdown",
   "metadata": {},
   "source": [
    "### Víceřádkové stringy"
   ]
  },
  {
   "cell_type": "markdown",
   "metadata": {},
   "source": [
    "SQL dotazy se v Pythonu píšou jako obyčejné stringy. Jupyter to neumí, ale chytřejší programy poznají že je ve stringu SQL a zvýrazní nám jeho syntaxi.\n",
    "\n",
    "Pro snazší čitelnost je, stejně jako v klasickém SQL, zvykem psát dotazy rozdělené do více řádků. Začneme tedy ukázkou, jak psát v Pythonu víceřádkové stringy."
   ]
  },
  {
   "cell_type": "markdown",
   "metadata": {},
   "source": [
    "Pokud ukončíme řádek uprostřed obyčejného stringu, chápe to Python jako oddělení dvou příkazů, a začne si stěžovat na neukončené uvozovky."
   ]
  },
  {
   "cell_type": "code",
   "execution_count": 17,
   "metadata": {},
   "outputs": [
    {
     "ename": "SyntaxError",
     "evalue": "EOL while scanning string literal (<ipython-input-17-18a9d138385f>, line 1)",
     "output_type": "error",
     "traceback": [
      "\u001b[0;36m  File \u001b[0;32m\"<ipython-input-17-18a9d138385f>\"\u001b[0;36m, line \u001b[0;32m1\u001b[0m\n\u001b[0;31m    tohle_nepujde = \"SELECT sloupec\u001b[0m\n\u001b[0m                                   ^\u001b[0m\n\u001b[0;31mSyntaxError\u001b[0m\u001b[0;31m:\u001b[0m EOL while scanning string literal\n"
     ]
    }
   ],
   "source": [
    "tohle_nepujde = \"SELECT sloupec\n",
    "FROM tabulka\"\n",
    "\n",
    "print(tohle_nepujde)"
   ]
  },
  {
   "cell_type": "markdown",
   "metadata": {},
   "source": [
    "Můžeme tam sice přidat znak `\\n` jako nový řádek, ale ten funguje jen po vypsání na obrazovku nebo do souboru. Čitelnosti kódu to nijak nepomůže."
   ]
  },
  {
   "cell_type": "code",
   "execution_count": 16,
   "metadata": {},
   "outputs": [
    {
     "name": "stdout",
     "output_type": "stream",
     "text": [
      "SELECT sloupec\n",
      "FROM tabulka\n"
     ]
    }
   ],
   "source": [
    "tohle_neni_citelne = \"SELECT sloupec\\nFROM tabulka\"\n",
    "\n",
    "print(tohle_neni_citelne)"
   ]
  },
  {
   "cell_type": "markdown",
   "metadata": {},
   "source": [
    "Python umožňuje začít (a ukončit) string třemi uvozovkami. Takový string pak chápe jako víceřádkový."
   ]
  },
  {
   "cell_type": "code",
   "execution_count": 18,
   "metadata": {},
   "outputs": [
    {
     "name": "stdout",
     "output_type": "stream",
     "text": [
      "\n",
      "SELECT sloupec\n",
      "FROM tabulka\n",
      "\n"
     ]
    }
   ],
   "source": [
    "tohle_je_ok = \"\"\"\n",
    "SELECT sloupec\n",
    "FROM tabulka\n",
    "\"\"\"\n",
    "\n",
    "print(tohle_je_ok)"
   ]
  },
  {
   "cell_type": "markdown",
   "metadata": {},
   "source": [
    "Takový string dokonce zachovává odsazení."
   ]
  },
  {
   "cell_type": "code",
   "execution_count": 20,
   "metadata": {},
   "outputs": [
    {
     "name": "stdout",
     "output_type": "stream",
     "text": [
      "\n",
      "SELECT sloupec1,\n",
      "       sloupec2,\n",
      "FROM tabulka\n",
      "WHERE sloupec3 IN (\n",
      "    SELECT sloupec4\n",
      "    FROM tabulka2\n",
      ")\n",
      "\n"
     ]
    }
   ],
   "source": [
    "odsazeny_string = \"\"\"\n",
    "SELECT sloupec1,\n",
    "       sloupec2,\n",
    "FROM tabulka\n",
    "WHERE sloupec3 IN (\n",
    "    SELECT sloupec4\n",
    "    FROM tabulka2\n",
    ")\n",
    "\"\"\"\n",
    "\n",
    "print(odsazeny_string)"
   ]
  },
  {
   "cell_type": "markdown",
   "metadata": {},
   "source": [
    "Občas si lidé myslí, že tři uvozovky znamenají víceřádkový komentář. To ale není pravda, Python žádné víceřádkové komentáře nemá."
   ]
  },
  {
   "cell_type": "code",
   "execution_count": 21,
   "metadata": {},
   "outputs": [
    {
     "data": {
      "text/plain": [
       "'\\nZde není komentář.\\n\\nZde už vůbec ne.\\n'"
      ]
     },
     "execution_count": 21,
     "metadata": {},
     "output_type": "execute_result"
    }
   ],
   "source": [
    "\"\"\"\n",
    "Zde není komentář.\n",
    "\n",
    "Zde už vůbec ne.\n",
    "\"\"\""
   ]
  },
  {
   "cell_type": "markdown",
   "metadata": {},
   "source": [
    "Jak vidíme z výstupu Jupyteru, Python vytvořil víceřádkový string. Jen se neuložil do žádné proměnné a tak hned zanikl. Narozdíl od komentářů (které se při spuštění programu přeskakují) ale Python každý víceřádkový string vytvoří, což stojí nějakou práci navíc.\n",
    "\n",
    "Teoreticky je taky možné v rámci víceřádkového (f-)stringu spustit libovolný kód, což by v komentáři určitě jít nemělo."
   ]
  },
  {
   "cell_type": "code",
   "execution_count": 23,
   "metadata": {},
   "outputs": [
    {
     "ename": "ZeroDivisionError",
     "evalue": "division by zero",
     "output_type": "error",
     "traceback": [
      "\u001b[0;31m---------------------------------------------------------------------------\u001b[0m",
      "\u001b[0;31mZeroDivisionError\u001b[0m                         Traceback (most recent call last)",
      "\u001b[0;32m<ipython-input-23-30faa6e69c90>\u001b[0m in \u001b[0;36m<module>\u001b[0;34m\u001b[0m\n\u001b[1;32m      2\u001b[0m \u001b[0mZde\u001b[0m \u001b[0mnení\u001b[0m \u001b[0mkomentář\u001b[0m\u001b[0;34m.\u001b[0m\u001b[0;34m\u001b[0m\u001b[0;34m\u001b[0m\u001b[0m\n\u001b[1;32m      3\u001b[0m \u001b[0;34m\u001b[0m\u001b[0m\n\u001b[0;32m----> 4\u001b[0;31m \u001b[0mZkusíme\u001b[0m \u001b[0mdělit\u001b[0m \u001b[0mnulou\u001b[0m\u001b[0;34m:\u001b[0m \u001b[0;34m{\u001b[0m\u001b[0;36m1\u001b[0m \u001b[0;34m/\u001b[0m \u001b[0;36m0\u001b[0m\u001b[0;34m}\u001b[0m\u001b[0;34m.\u001b[0m\u001b[0;34m\u001b[0m\u001b[0;34m\u001b[0m\u001b[0m\n\u001b[0m\u001b[1;32m      5\u001b[0m \"\"\"\n",
      "\u001b[0;31mZeroDivisionError\u001b[0m: division by zero"
     ]
    }
   ],
   "source": [
    "f\"\"\"\n",
    "Zde není komentář.\n",
    "\n",
    "Zkusíme dělit nulou: {1 / 0}.\n",
    "\"\"\""
   ]
  },
  {
   "cell_type": "markdown",
   "metadata": {},
   "source": [
    "### Další způsob formátování stringů"
   ]
  },
  {
   "cell_type": "markdown",
   "metadata": {},
   "source": [
    "Pro formátování stringů jsme si už dříve ukázali f-stringy. Ty nám umožňují do stringu dodat hodnotu libovolného Pythonovského výrazu. Ačkoliv Python umí víc způsobů, f-stringy se používají nejčastěji, protože jsou nejčitelnější a nejrychlejší.\n",
    "\n",
    "Jejich nevýhodou ale je, že nemůžeme stejný string využít víckrát, a pokaždé do něj vložit hodnoty jiných výrazů. Právě to se nám někdy hodí při psaní modulárních SQL dotazů."
   ]
  },
  {
   "cell_type": "markdown",
   "metadata": {},
   "source": [
    "Dejme tomu, že máme tabulku studentů."
   ]
  },
  {
   "cell_type": "markdown",
   "metadata": {},
   "source": [
    "<table>\n",
    "    <tr><th>Jméno</th><th>Bydliště</th><th>Studijní obor</th></tr>\n",
    "    <tr><td>František Novák</td><td>Praha</td><td>Historie</td></tr>\n",
    "    <tr><td>Josef Krátký</td><td>Litomyšl</td><td>Matematika</td></tr>\n",
    "    <tr><td>Petr Švec</td><td>Olomouc</td><td>Alchymie</td></tr>\n",
    "    <tr><td>David Kovář</td><td>Znojmo</td><td>Hudba</td></tr>\n",
    "    <tr><td>Prokop Novotný</td><td>Praha</td><td>Tanec</td></tr>\n",
    "    <tr><td>Marek Černý</td><td>Plzeň</td><td>Medicína</td></tr>\n",
    "</table>"
   ]
  },
  {
   "cell_type": "markdown",
   "metadata": {},
   "source": [
    "Podobně máme tabulku profesorů."
   ]
  },
  {
   "cell_type": "markdown",
   "metadata": {},
   "source": [
    "<table>\n",
    "    <tr><th>Jméno</th><th>Bydliště</th><th>Vydaných článků</th></tr>\n",
    "    <tr><td>Jiří Volf</td><td>Brno</td><td>1</td></tr>\n",
    "    <tr><td>Jan Kulhavý</td><td>Praha</td><td>40</td></tr>\n",
    "    <tr><td>Michal Horák</td><td>Ostrava</td><td>3</td></tr>\n",
    "    <tr><td>Ondřej Veselý</td><td>Plzeň</td><td>18</td></tr>\n",
    "</table>"
   ]
  },
  {
   "cell_type": "markdown",
   "metadata": {},
   "source": [
    "Chceme vybrat studenty i profesory, kteří žijí v Praze. V obou případech bude dotaz podobný."
   ]
  },
  {
   "cell_type": "code",
   "execution_count": 25,
   "metadata": {},
   "outputs": [],
   "source": [
    "studenti_praha = \"\"\"\n",
    "SELECT jmeno\n",
    "FROM studenti\n",
    "WHERE bydliste = 'Praha'\n",
    "\"\"\"\n",
    "\n",
    "profesori_praha = \"\"\"\n",
    "SELECT jmeno\n",
    "FROM profesori\n",
    "WHERE bydliste = 'Praha'\n",
    "\"\"\""
   ]
  },
  {
   "cell_type": "markdown",
   "metadata": {},
   "source": [
    "Protože se oba dotazy liší jen názvem tabulky, bylo by mnohem hezčí napsat si obecný dotaz pro výběr jmen s bydlištěm v Praze, a podle potřeby do něj doplnit název tabulky."
   ]
  },
  {
   "cell_type": "code",
   "execution_count": 26,
   "metadata": {},
   "outputs": [],
   "source": [
    "bydliste_praha = \"\"\"\n",
    "SELECT jmeno\n",
    "FROM {tabulka}\n",
    "WHERE bydliste = 'Praha'\n",
    "\"\"\""
   ]
  },
  {
   "cell_type": "code",
   "execution_count": 29,
   "metadata": {},
   "outputs": [
    {
     "name": "stdout",
     "output_type": "stream",
     "text": [
      "\n",
      "SELECT jmeno\n",
      "FROM studenti\n",
      "WHERE bydliste = 'Praha'\n",
      "\n"
     ]
    }
   ],
   "source": [
    "print(bydliste_praha.format(tabulka=\"studenti\"))"
   ]
  },
  {
   "cell_type": "code",
   "execution_count": 30,
   "metadata": {},
   "outputs": [
    {
     "name": "stdout",
     "output_type": "stream",
     "text": [
      "\n",
      "SELECT jmeno\n",
      "FROM profesori\n",
      "WHERE bydliste = 'Praha'\n",
      "\n"
     ]
    }
   ],
   "source": [
    "print(bydliste_praha.format(tabulka=\"profesori\"))"
   ]
  },
  {
   "cell_type": "markdown",
   "metadata": {},
   "source": [
    "Můžeme jít ještě dál, a i místo bydliště nechat jako parametr. Jen pozor na jednoduché uvozovky okolo hodnoty tohoto parametru."
   ]
  },
  {
   "cell_type": "code",
   "execution_count": 31,
   "metadata": {},
   "outputs": [],
   "source": [
    "jmeno_podle_bydliste = \"\"\"\n",
    "SELECT jmeno\n",
    "FROM {tabulka}\n",
    "WHERE bydliste = '{bydliste}'\n",
    "\"\"\""
   ]
  },
  {
   "cell_type": "code",
   "execution_count": 33,
   "metadata": {},
   "outputs": [
    {
     "name": "stdout",
     "output_type": "stream",
     "text": [
      "\n",
      "SELECT jmeno\n",
      "FROM studenti\n",
      "WHERE bydliste = 'Brno'\n",
      "\n"
     ]
    }
   ],
   "source": [
    "print(jmeno_podle_bydliste.format(tabulka=\"studenti\", bydliste=\"Brno\"))"
   ]
  },
  {
   "cell_type": "markdown",
   "metadata": {},
   "source": [
    "## 2. SELECT"
   ]
  },
  {
   "cell_type": "code",
   "execution_count": 1,
   "metadata": {},
   "outputs": [],
   "source": [
    "import pandas as pd\n",
    "import snowflake.connector"
   ]
  },
  {
   "cell_type": "markdown",
   "metadata": {},
   "source": [
    "Nejprve potřebujeme zadat jméno a heslo pro přístup do databáze. Formálně je potřeba i role, ale zde víme jak vypadá, tak ji dostaneme automaticky."
   ]
  },
  {
   "cell_type": "code",
   "execution_count": null,
   "metadata": {},
   "outputs": [],
   "source": [
    "name = ...  # Dopln svuj login jako string.\n",
    "password = ...  # Dopln svoje heslo jako string.\n",
    "role = \"ROLE_\" + name.upper()"
   ]
  },
  {
   "cell_type": "markdown",
   "metadata": {},
   "source": [
    "Doplníme údaje o databázovém serveru a pomocí Snowflake connectoru navážeme spojení."
   ]
  },
  {
   "cell_type": "code",
   "execution_count": 3,
   "metadata": {},
   "outputs": [],
   "source": [
    "DATABASE = \"COURSES\"\n",
    "HOST = \"https://ip68917.eu-west-1.snowflakecomputing.com/\"\n",
    "SCHEMA = \"SCH_CZECHITA\"\n",
    "WAREHOUSE = \"COMPUTE_WH\"\n",
    "ACCOUNT = \"ip68917.eu-west-1\"\n",
    "\n",
    "conn = snowflake.connector.connect(\n",
    "    user=name,\n",
    "    password=password,\n",
    "    account=ACCOUNT,\n",
    "    warehouse=WAREHOUSE,\n",
    "    database=DATABASE,\n",
    "    schema=SCHEMA,\n",
    "    role=role,\n",
    ")"
   ]
  },
  {
   "cell_type": "markdown",
   "metadata": {},
   "source": [
    "Vyzkoušíme jednoduchý SQL dotaz -- vybereme všechny státy z tabulky `country` ve schématu `SCH_CZECHITA`. Výsledkem je obyčejný Pandas dataframe."
   ]
  },
  {
   "cell_type": "code",
   "execution_count": 9,
   "metadata": {},
   "outputs": [
    {
     "data": {
      "text/html": [
       "<div>\n",
       "<style scoped>\n",
       "    .dataframe tbody tr th:only-of-type {\n",
       "        vertical-align: middle;\n",
       "    }\n",
       "\n",
       "    .dataframe tbody tr th {\n",
       "        vertical-align: top;\n",
       "    }\n",
       "\n",
       "    .dataframe thead th {\n",
       "        text-align: right;\n",
       "    }\n",
       "</style>\n",
       "<table border=\"1\" class=\"dataframe\">\n",
       "  <thead>\n",
       "    <tr style=\"text-align: right;\">\n",
       "      <th></th>\n",
       "      <th>ID</th>\n",
       "      <th>NAME</th>\n",
       "    </tr>\n",
       "  </thead>\n",
       "  <tbody>\n",
       "    <tr>\n",
       "      <th>0</th>\n",
       "      <td>4</td>\n",
       "      <td>Afghanistan</td>\n",
       "    </tr>\n",
       "    <tr>\n",
       "      <th>1</th>\n",
       "      <td>5</td>\n",
       "      <td>Albania</td>\n",
       "    </tr>\n",
       "    <tr>\n",
       "      <th>2</th>\n",
       "      <td>6</td>\n",
       "      <td>Algeria</td>\n",
       "    </tr>\n",
       "    <tr>\n",
       "      <th>3</th>\n",
       "      <td>8</td>\n",
       "      <td>Angola</td>\n",
       "    </tr>\n",
       "    <tr>\n",
       "      <th>4</th>\n",
       "      <td>11</td>\n",
       "      <td>Argentina</td>\n",
       "    </tr>\n",
       "    <tr>\n",
       "      <th>...</th>\n",
       "      <td>...</td>\n",
       "      <td>...</td>\n",
       "    </tr>\n",
       "    <tr>\n",
       "      <th>132</th>\n",
       "      <td>603</td>\n",
       "      <td>United Kingdom</td>\n",
       "    </tr>\n",
       "    <tr>\n",
       "      <th>133</th>\n",
       "      <td>1001</td>\n",
       "      <td>Serbia</td>\n",
       "    </tr>\n",
       "    <tr>\n",
       "      <th>134</th>\n",
       "      <td>1002</td>\n",
       "      <td>Montenegro</td>\n",
       "    </tr>\n",
       "    <tr>\n",
       "      <th>135</th>\n",
       "      <td>1003</td>\n",
       "      <td>Kosovo</td>\n",
       "    </tr>\n",
       "    <tr>\n",
       "      <th>136</th>\n",
       "      <td>1004</td>\n",
       "      <td>South Sudan</td>\n",
       "    </tr>\n",
       "  </tbody>\n",
       "</table>\n",
       "<p>137 rows × 2 columns</p>\n",
       "</div>"
      ],
      "text/plain": [
       "       ID            NAME\n",
       "0       4     Afghanistan\n",
       "1       5         Albania\n",
       "2       6         Algeria\n",
       "3       8          Angola\n",
       "4      11       Argentina\n",
       "..    ...             ...\n",
       "132   603  United Kingdom\n",
       "133  1001          Serbia\n",
       "134  1002      Montenegro\n",
       "135  1003          Kosovo\n",
       "136  1004     South Sudan\n",
       "\n",
       "[137 rows x 2 columns]"
      ]
     },
     "execution_count": 9,
     "metadata": {},
     "output_type": "execute_result"
    }
   ],
   "source": [
    "sql = \"\"\"\n",
    "    SELECT *\n",
    "    FROM SCH_CZECHITA.country\n",
    "\"\"\"\n",
    "\n",
    "pd.read_sql_query(sql, conn)"
   ]
  },
  {
   "cell_type": "markdown",
   "metadata": {},
   "source": [
    "Protože jsme schéma uvedli už při připojení, nemusíme ho opakovat u každé tabulky."
   ]
  },
  {
   "cell_type": "code",
   "execution_count": 7,
   "metadata": {},
   "outputs": [],
   "source": [
    "sql = \"\"\"\n",
    "    SELECT *\n",
    "    FROM country\n",
    "\"\"\"\n",
    "\n",
    "pd.read_sql_query(sql, conn)"
   ]
  },
  {
   "cell_type": "markdown",
   "metadata": {},
   "source": [
    "## 3. JOIN"
   ]
  },
  {
   "cell_type": "code",
   "execution_count": null,
   "metadata": {},
   "outputs": [],
   "source": []
  },
  {
   "cell_type": "markdown",
   "metadata": {},
   "source": [
    "## 4. GROUP BY"
   ]
  },
  {
   "cell_type": "code",
   "execution_count": null,
   "metadata": {},
   "outputs": [],
   "source": []
  }
 ],
 "metadata": {
  "kernelspec": {
   "display_name": "Python 3",
   "language": "python",
   "name": "python3"
  },
  "language_info": {
   "codemirror_mode": {
    "name": "ipython",
    "version": 3
   },
   "file_extension": ".py",
   "mimetype": "text/x-python",
   "name": "python",
   "nbconvert_exporter": "python",
   "pygments_lexer": "ipython3",
   "version": "3.8.5"
  }
 },
 "nbformat": 4,
 "nbformat_minor": 4
}
