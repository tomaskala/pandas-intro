{
 "cells": [
  {
   "cell_type": "markdown",
   "metadata": {},
   "source": [
    "# Databáze"
   ]
  },
  {
   "cell_type": "markdown",
   "metadata": {},
   "source": [
    "V této lekci si ukážeme, jak se dá z Pandas připojit k databázi. To nám umožní psát v rámci Pythonu SQL dotazy a jako výsledky dostávat dataframes. Ukážeme si pár příkladů a porovnáme rozdíly mezi zpracováním dat v databázi a v Pandas.\n",
    "\n",
    "Lekce předpokládá, že máte nainstalovaný Snowflake connector a funguje vám připojení k databázi. Pokud nemáte, využijte přiložený [skript](check_db.py). Spustíte jako `python check_db.py --name '<vas-snowflake-login>' --password '<vase-snowflake-heslo>'` včetně těch jednoduchých uvozovek. V mém případě tedy `python check_db --name 'CZECHITA_KALAT' --password '12345'`. Skript zkontroluje jestli máte nainstalovaný Snowflake connector, správně zadané heslo a jestli funguje připojení. Pokud ne, vypíše krátký komentář a chybu."
   ]
  },
  {
   "cell_type": "markdown",
   "metadata": {},
   "source": [
    "Než se připojíme k databázi, ukážeme si nějakou další práci s textovými řetězci, která se nám bude hodit při psaní SQL dotazů."
   ]
  },
  {
   "cell_type": "markdown",
   "metadata": {},
   "source": [
    "## 1. Víceřádkové stringy a další formátování"
   ]
  },
  {
   "cell_type": "markdown",
   "metadata": {},
   "source": [
    "### Víceřádkové stringy"
   ]
  },
  {
   "cell_type": "markdown",
   "metadata": {},
   "source": [
    "SQL dotazy se v Pythonu píšou jako obyčejné stringy. Jupyter to neumí, ale chytřejší programy poznají že je ve stringu SQL, a zvýrazní nám jeho syntaxi.\n",
    "\n",
    "Pro snazší čitelnost je, stejně jako v klasickém SQL, zvykem psát dotazy rozdělené do více řádků. Začneme tedy ukázkou, jak psát v Pythonu víceřádkové stringy."
   ]
  },
  {
   "cell_type": "markdown",
   "metadata": {},
   "source": [
    "Pokud ukončíme řádek uprostřed obyčejného stringu, chápe to Python jako oddělení dvou příkazů, a začne si stěžovat na neukončené uvozovky."
   ]
  },
  {
   "cell_type": "code",
   "execution_count": 1,
   "metadata": {},
   "outputs": [
    {
     "ename": "SyntaxError",
     "evalue": "EOL while scanning string literal (<ipython-input-1-18a9d138385f>, line 1)",
     "output_type": "error",
     "traceback": [
      "\u001b[0;36m  File \u001b[0;32m\"<ipython-input-1-18a9d138385f>\"\u001b[0;36m, line \u001b[0;32m1\u001b[0m\n\u001b[0;31m    tohle_nepujde = \"SELECT sloupec\u001b[0m\n\u001b[0m                                   ^\u001b[0m\n\u001b[0;31mSyntaxError\u001b[0m\u001b[0;31m:\u001b[0m EOL while scanning string literal\n"
     ]
    }
   ],
   "source": [
    "tohle_nepujde = \"SELECT sloupec\n",
    "FROM tabulka\"\n",
    "\n",
    "print(tohle_nepujde)"
   ]
  },
  {
   "cell_type": "markdown",
   "metadata": {},
   "source": [
    "Můžeme tam sice přidat znak `\\n` jako nový řádek, ale ten funguje jen po vypsání na obrazovku nebo do souboru. Čitelnosti kódu to nijak nepomůže."
   ]
  },
  {
   "cell_type": "code",
   "execution_count": 2,
   "metadata": {},
   "outputs": [
    {
     "name": "stdout",
     "output_type": "stream",
     "text": [
      "SELECT sloupec\n",
      "FROM tabulka\n"
     ]
    }
   ],
   "source": [
    "tohle_neni_citelne = \"SELECT sloupec\\nFROM tabulka\"\n",
    "\n",
    "print(tohle_neni_citelne)"
   ]
  },
  {
   "cell_type": "markdown",
   "metadata": {},
   "source": [
    "Python umožňuje začít (a ukončit) string třemi uvozovkami. Takový string pak chápe jako víceřádkový."
   ]
  },
  {
   "cell_type": "code",
   "execution_count": 3,
   "metadata": {},
   "outputs": [
    {
     "name": "stdout",
     "output_type": "stream",
     "text": [
      "\n",
      "SELECT sloupec\n",
      "FROM tabulka\n",
      "\n"
     ]
    }
   ],
   "source": [
    "tohle_je_ok = \"\"\"\n",
    "SELECT sloupec\n",
    "FROM tabulka\n",
    "\"\"\"\n",
    "\n",
    "print(tohle_je_ok)"
   ]
  },
  {
   "cell_type": "markdown",
   "metadata": {},
   "source": [
    "Takový string dokonce zachovává odsazení."
   ]
  },
  {
   "cell_type": "code",
   "execution_count": 4,
   "metadata": {},
   "outputs": [
    {
     "name": "stdout",
     "output_type": "stream",
     "text": [
      "\n",
      "SELECT sloupec1,\n",
      "       sloupec2,\n",
      "FROM tabulka\n",
      "WHERE sloupec3 IN (\n",
      "    SELECT sloupec4\n",
      "    FROM tabulka2\n",
      ")\n",
      "\n"
     ]
    }
   ],
   "source": [
    "odsazeny_string = \"\"\"\n",
    "SELECT sloupec1,\n",
    "       sloupec2,\n",
    "FROM tabulka\n",
    "WHERE sloupec3 IN (\n",
    "    SELECT sloupec4\n",
    "    FROM tabulka2\n",
    ")\n",
    "\"\"\"\n",
    "\n",
    "print(odsazeny_string)"
   ]
  },
  {
   "cell_type": "markdown",
   "metadata": {},
   "source": [
    "Občas si lidé myslí, že tři uvozovky znamenají víceřádkový komentář. To ale není pravda, Python žádné víceřádkové komentáře nemá."
   ]
  },
  {
   "cell_type": "code",
   "execution_count": 5,
   "metadata": {},
   "outputs": [
    {
     "data": {
      "text/plain": [
       "'\\nZde není komentář.\\n\\nZde už vůbec ne.\\n'"
      ]
     },
     "execution_count": 5,
     "metadata": {},
     "output_type": "execute_result"
    }
   ],
   "source": [
    "\"\"\"\n",
    "Zde není komentář.\n",
    "\n",
    "Zde už vůbec ne.\n",
    "\"\"\""
   ]
  },
  {
   "cell_type": "markdown",
   "metadata": {},
   "source": [
    "Jak vidíme z výstupu Jupyteru, Python vytvořil víceřádkový string. Jen se neuložil do žádné proměnné a tak hned zanikl. Narozdíl od komentářů (které se při spuštění programu přeskakují) ale Python každý víceřádkový string vytvoří, což stojí nějakou práci navíc.\n",
    "\n",
    "Navíc je možné v rámci takového (f-)stringu spustit libovolný kód, což by v komentáři určitě jít nemělo. Není to speciální vlastnost víceřádkových stringů, totéž lze provést i v klasickém f-stringu. Jen to ukazuje rozdíl oproti komentářům."
   ]
  },
  {
   "cell_type": "code",
   "execution_count": 6,
   "metadata": {},
   "outputs": [
    {
     "ename": "ZeroDivisionError",
     "evalue": "division by zero",
     "output_type": "error",
     "traceback": [
      "\u001b[0;31m---------------------------------------------------------------------------\u001b[0m",
      "\u001b[0;31mZeroDivisionError\u001b[0m                         Traceback (most recent call last)",
      "\u001b[0;32m<ipython-input-6-30faa6e69c90>\u001b[0m in \u001b[0;36m<module>\u001b[0;34m\u001b[0m\n\u001b[1;32m      2\u001b[0m \u001b[0mZde\u001b[0m \u001b[0mnení\u001b[0m \u001b[0mkomentář\u001b[0m\u001b[0;34m.\u001b[0m\u001b[0;34m\u001b[0m\u001b[0;34m\u001b[0m\u001b[0m\n\u001b[1;32m      3\u001b[0m \u001b[0;34m\u001b[0m\u001b[0m\n\u001b[0;32m----> 4\u001b[0;31m \u001b[0mZkusíme\u001b[0m \u001b[0mdělit\u001b[0m \u001b[0mnulou\u001b[0m\u001b[0;34m:\u001b[0m \u001b[0;34m{\u001b[0m\u001b[0;36m1\u001b[0m \u001b[0;34m/\u001b[0m \u001b[0;36m0\u001b[0m\u001b[0;34m}\u001b[0m\u001b[0;34m.\u001b[0m\u001b[0;34m\u001b[0m\u001b[0;34m\u001b[0m\u001b[0m\n\u001b[0m\u001b[1;32m      5\u001b[0m \"\"\"\n",
      "\u001b[0;31mZeroDivisionError\u001b[0m: division by zero"
     ]
    }
   ],
   "source": [
    "f\"\"\"\n",
    "Zde není komentář.\n",
    "\n",
    "Zkusíme dělit nulou: {1 / 0}.\n",
    "\"\"\""
   ]
  },
  {
   "cell_type": "markdown",
   "metadata": {},
   "source": [
    "### Další způsob formátování stringů"
   ]
  },
  {
   "cell_type": "markdown",
   "metadata": {},
   "source": [
    "Pro formátování stringů jsme si už dříve ukázali f-stringy. Ty nám umožňují do stringu dodat hodnotu libovolného Pythonovského výrazu. Ačkoliv Python umí víc způsobů, f-stringy se používají nejčastěji, protože jsou nejčitelnější a nejrychlejší.\n",
    "\n",
    "Jejich nevýhodou ale je, že nemůžeme stejný string využít víckrát s různými hodnotami. Právě to se nám někdy hodí při psaní modulárních SQL dotazů."
   ]
  },
  {
   "cell_type": "markdown",
   "metadata": {},
   "source": [
    "Dejme tomu, že máme tabulku studentů."
   ]
  },
  {
   "cell_type": "markdown",
   "metadata": {},
   "source": [
    "<table>\n",
    "    <tr><th>Jméno</th><th>Bydliště</th><th>Studijní obor</th></tr>\n",
    "    <tr><td>František Novák</td><td>Praha</td><td>Historie</td></tr>\n",
    "    <tr><td>Josef Krátký</td><td>Litomyšl</td><td>Matematika</td></tr>\n",
    "    <tr><td>Petr Švec</td><td>Olomouc</td><td>Alchymie</td></tr>\n",
    "    <tr><td>David Kovář</td><td>Znojmo</td><td>Hudba</td></tr>\n",
    "    <tr><td>Prokop Novotný</td><td>Praha</td><td>Tanec</td></tr>\n",
    "    <tr><td>Marek Černý</td><td>Plzeň</td><td>Medicína</td></tr>\n",
    "</table>"
   ]
  },
  {
   "cell_type": "markdown",
   "metadata": {},
   "source": [
    "Podobně máme tabulku profesorů."
   ]
  },
  {
   "cell_type": "markdown",
   "metadata": {},
   "source": [
    "<table>\n",
    "    <tr><th>Jméno</th><th>Bydliště</th><th>Vydaných článků</th></tr>\n",
    "    <tr><td>Jiří Volf</td><td>Brno</td><td>1</td></tr>\n",
    "    <tr><td>Jan Kulhavý</td><td>Praha</td><td>40</td></tr>\n",
    "    <tr><td>Michal Horák</td><td>Ostrava</td><td>3</td></tr>\n",
    "    <tr><td>Ondřej Veselý</td><td>Plzeň</td><td>18</td></tr>\n",
    "</table>"
   ]
  },
  {
   "cell_type": "markdown",
   "metadata": {},
   "source": [
    "Chceme vybrat studenty i profesory, kteří žijí v Praze. V obou případech bude dotaz podobný."
   ]
  },
  {
   "cell_type": "code",
   "execution_count": 7,
   "metadata": {},
   "outputs": [],
   "source": [
    "studenti_praha = \"\"\"\n",
    "SELECT jmeno\n",
    "FROM studenti\n",
    "WHERE bydliste = 'Praha'\n",
    "\"\"\"\n",
    "\n",
    "profesori_praha = \"\"\"\n",
    "SELECT jmeno\n",
    "FROM profesori\n",
    "WHERE bydliste = 'Praha'\n",
    "\"\"\""
   ]
  },
  {
   "cell_type": "markdown",
   "metadata": {},
   "source": [
    "Protože se oba dotazy liší jen názvem tabulky, bylo by mnohem hezčí napsat si obecný dotaz pro výběr jmen s bydlištěm v Praze, a podle potřeby do něj doplnit název tabulky."
   ]
  },
  {
   "cell_type": "code",
   "execution_count": 8,
   "metadata": {},
   "outputs": [],
   "source": [
    "bydliste_praha = \"\"\"\n",
    "SELECT jmeno\n",
    "FROM {tabulka}\n",
    "WHERE bydliste = 'Praha'\n",
    "\"\"\""
   ]
  },
  {
   "cell_type": "code",
   "execution_count": 9,
   "metadata": {},
   "outputs": [
    {
     "name": "stdout",
     "output_type": "stream",
     "text": [
      "\n",
      "SELECT jmeno\n",
      "FROM studenti\n",
      "WHERE bydliste = 'Praha'\n",
      "\n"
     ]
    }
   ],
   "source": [
    "print(bydliste_praha.format(tabulka=\"studenti\"))"
   ]
  },
  {
   "cell_type": "code",
   "execution_count": 10,
   "metadata": {},
   "outputs": [
    {
     "name": "stdout",
     "output_type": "stream",
     "text": [
      "\n",
      "SELECT jmeno\n",
      "FROM profesori\n",
      "WHERE bydliste = 'Praha'\n",
      "\n"
     ]
    }
   ],
   "source": [
    "print(bydliste_praha.format(tabulka=\"profesori\"))"
   ]
  },
  {
   "cell_type": "markdown",
   "metadata": {},
   "source": [
    "Můžeme jít ještě dál, a i místo bydliště nechat jako parametr. Jen pozor na jednoduché uvozovky okolo hodnoty."
   ]
  },
  {
   "cell_type": "code",
   "execution_count": 11,
   "metadata": {},
   "outputs": [],
   "source": [
    "jmeno_podle_bydliste = \"\"\"\n",
    "SELECT jmeno\n",
    "FROM {tabulka}\n",
    "WHERE bydliste = '{bydliste}'\n",
    "\"\"\""
   ]
  },
  {
   "cell_type": "code",
   "execution_count": 12,
   "metadata": {},
   "outputs": [
    {
     "name": "stdout",
     "output_type": "stream",
     "text": [
      "\n",
      "SELECT jmeno\n",
      "FROM studenti\n",
      "WHERE bydliste = 'Brno'\n",
      "\n"
     ]
    }
   ],
   "source": [
    "print(jmeno_podle_bydliste.format(tabulka=\"studenti\", bydliste=\"Brno\"))"
   ]
  },
  {
   "cell_type": "markdown",
   "metadata": {},
   "source": [
    "## 2. SELECT"
   ]
  },
  {
   "cell_type": "markdown",
   "metadata": {},
   "source": [
    "### Připojení a základní SELECTy"
   ]
  },
  {
   "cell_type": "markdown",
   "metadata": {},
   "source": [
    "Zatím jsme si vyráběli SQL dotazy ve stringu, ale neposílali jsme je do databáze. To přijde teď."
   ]
  },
  {
   "cell_type": "code",
   "execution_count": 13,
   "metadata": {},
   "outputs": [],
   "source": [
    "import pandas as pd\n",
    "import snowflake.connector"
   ]
  },
  {
   "cell_type": "markdown",
   "metadata": {},
   "source": [
    "Nejprve potřebujeme zadat jméno a heslo pro přístup do databáze. Formálně je potřeba i role, ale zde víme jak vypadá, tak ji dostaneme automaticky."
   ]
  },
  {
   "cell_type": "code",
   "execution_count": 14,
   "metadata": {},
   "outputs": [],
   "source": [
    "name = ...  # Dopln svuj login jako string.\n",
    "password = ...  # Dopln svoje heslo jako string.\n",
    "role = \"ROLE_\" + name.upper()"
   ]
  },
  {
   "cell_type": "markdown",
   "metadata": {},
   "source": [
    "Doplníme údaje o databázovém serveru a pomocí Snowflake connectoru navážeme spojení."
   ]
  },
  {
   "cell_type": "code",
   "execution_count": 15,
   "metadata": {},
   "outputs": [],
   "source": [
    "DATABASE = \"COURSES\"\n",
    "HOST = \"https://ip68917.eu-west-1.snowflakecomputing.com/\"\n",
    "SCHEMA = \"SCH_CZECHITA\"\n",
    "WAREHOUSE = \"COMPUTE_WH\"\n",
    "ACCOUNT = \"ip68917.eu-west-1\"\n",
    "\n",
    "conn = snowflake.connector.connect(\n",
    "    user=name,\n",
    "    password=password,\n",
    "    account=ACCOUNT,\n",
    "    warehouse=WAREHOUSE,\n",
    "    database=DATABASE,\n",
    "    schema=SCHEMA,\n",
    "    role=role,\n",
    ")"
   ]
  },
  {
   "cell_type": "markdown",
   "metadata": {},
   "source": [
    "Vyzkoušíme jednoduchý SQL dotaz -- vybereme všechny státy z tabulky `country` ve schématu `SCH_CZECHITA`. Výsledkem je obyčejný Pandas dataframe."
   ]
  },
  {
   "cell_type": "code",
   "execution_count": 16,
   "metadata": {},
   "outputs": [
    {
     "data": {
      "text/html": [
       "<div>\n",
       "<style scoped>\n",
       "    .dataframe tbody tr th:only-of-type {\n",
       "        vertical-align: middle;\n",
       "    }\n",
       "\n",
       "    .dataframe tbody tr th {\n",
       "        vertical-align: top;\n",
       "    }\n",
       "\n",
       "    .dataframe thead th {\n",
       "        text-align: right;\n",
       "    }\n",
       "</style>\n",
       "<table border=\"1\" class=\"dataframe\">\n",
       "  <thead>\n",
       "    <tr style=\"text-align: right;\">\n",
       "      <th></th>\n",
       "      <th>ID</th>\n",
       "      <th>NAME</th>\n",
       "    </tr>\n",
       "  </thead>\n",
       "  <tbody>\n",
       "    <tr>\n",
       "      <th>0</th>\n",
       "      <td>4</td>\n",
       "      <td>Afghanistan</td>\n",
       "    </tr>\n",
       "    <tr>\n",
       "      <th>1</th>\n",
       "      <td>5</td>\n",
       "      <td>Albania</td>\n",
       "    </tr>\n",
       "    <tr>\n",
       "      <th>2</th>\n",
       "      <td>6</td>\n",
       "      <td>Algeria</td>\n",
       "    </tr>\n",
       "    <tr>\n",
       "      <th>3</th>\n",
       "      <td>8</td>\n",
       "      <td>Angola</td>\n",
       "    </tr>\n",
       "    <tr>\n",
       "      <th>4</th>\n",
       "      <td>11</td>\n",
       "      <td>Argentina</td>\n",
       "    </tr>\n",
       "    <tr>\n",
       "      <th>...</th>\n",
       "      <td>...</td>\n",
       "      <td>...</td>\n",
       "    </tr>\n",
       "    <tr>\n",
       "      <th>132</th>\n",
       "      <td>603</td>\n",
       "      <td>United Kingdom</td>\n",
       "    </tr>\n",
       "    <tr>\n",
       "      <th>133</th>\n",
       "      <td>1001</td>\n",
       "      <td>Serbia</td>\n",
       "    </tr>\n",
       "    <tr>\n",
       "      <th>134</th>\n",
       "      <td>1002</td>\n",
       "      <td>Montenegro</td>\n",
       "    </tr>\n",
       "    <tr>\n",
       "      <th>135</th>\n",
       "      <td>1003</td>\n",
       "      <td>Kosovo</td>\n",
       "    </tr>\n",
       "    <tr>\n",
       "      <th>136</th>\n",
       "      <td>1004</td>\n",
       "      <td>South Sudan</td>\n",
       "    </tr>\n",
       "  </tbody>\n",
       "</table>\n",
       "<p>137 rows × 2 columns</p>\n",
       "</div>"
      ],
      "text/plain": [
       "       ID            NAME\n",
       "0       4     Afghanistan\n",
       "1       5         Albania\n",
       "2       6         Algeria\n",
       "3       8          Angola\n",
       "4      11       Argentina\n",
       "..    ...             ...\n",
       "132   603  United Kingdom\n",
       "133  1001          Serbia\n",
       "134  1002      Montenegro\n",
       "135  1003          Kosovo\n",
       "136  1004     South Sudan\n",
       "\n",
       "[137 rows x 2 columns]"
      ]
     },
     "execution_count": 16,
     "metadata": {},
     "output_type": "execute_result"
    }
   ],
   "source": [
    "sql = \"\"\"\n",
    "SELECT *\n",
    "FROM SCH_CZECHITA.country\n",
    "\"\"\"\n",
    "\n",
    "pd.read_sql_query(sql, conn)"
   ]
  },
  {
   "cell_type": "markdown",
   "metadata": {},
   "source": [
    "Protože jsme schéma uvedli už při připojení, nemusíme ho opakovat u každé tabulky."
   ]
  },
  {
   "cell_type": "code",
   "execution_count": 17,
   "metadata": {},
   "outputs": [
    {
     "data": {
      "text/html": [
       "<div>\n",
       "<style scoped>\n",
       "    .dataframe tbody tr th:only-of-type {\n",
       "        vertical-align: middle;\n",
       "    }\n",
       "\n",
       "    .dataframe tbody tr th {\n",
       "        vertical-align: top;\n",
       "    }\n",
       "\n",
       "    .dataframe thead th {\n",
       "        text-align: right;\n",
       "    }\n",
       "</style>\n",
       "<table border=\"1\" class=\"dataframe\">\n",
       "  <thead>\n",
       "    <tr style=\"text-align: right;\">\n",
       "      <th></th>\n",
       "      <th>ID</th>\n",
       "      <th>NAME</th>\n",
       "    </tr>\n",
       "  </thead>\n",
       "  <tbody>\n",
       "    <tr>\n",
       "      <th>0</th>\n",
       "      <td>4</td>\n",
       "      <td>Afghanistan</td>\n",
       "    </tr>\n",
       "    <tr>\n",
       "      <th>1</th>\n",
       "      <td>5</td>\n",
       "      <td>Albania</td>\n",
       "    </tr>\n",
       "    <tr>\n",
       "      <th>2</th>\n",
       "      <td>6</td>\n",
       "      <td>Algeria</td>\n",
       "    </tr>\n",
       "    <tr>\n",
       "      <th>3</th>\n",
       "      <td>8</td>\n",
       "      <td>Angola</td>\n",
       "    </tr>\n",
       "    <tr>\n",
       "      <th>4</th>\n",
       "      <td>11</td>\n",
       "      <td>Argentina</td>\n",
       "    </tr>\n",
       "    <tr>\n",
       "      <th>...</th>\n",
       "      <td>...</td>\n",
       "      <td>...</td>\n",
       "    </tr>\n",
       "    <tr>\n",
       "      <th>132</th>\n",
       "      <td>603</td>\n",
       "      <td>United Kingdom</td>\n",
       "    </tr>\n",
       "    <tr>\n",
       "      <th>133</th>\n",
       "      <td>1001</td>\n",
       "      <td>Serbia</td>\n",
       "    </tr>\n",
       "    <tr>\n",
       "      <th>134</th>\n",
       "      <td>1002</td>\n",
       "      <td>Montenegro</td>\n",
       "    </tr>\n",
       "    <tr>\n",
       "      <th>135</th>\n",
       "      <td>1003</td>\n",
       "      <td>Kosovo</td>\n",
       "    </tr>\n",
       "    <tr>\n",
       "      <th>136</th>\n",
       "      <td>1004</td>\n",
       "      <td>South Sudan</td>\n",
       "    </tr>\n",
       "  </tbody>\n",
       "</table>\n",
       "<p>137 rows × 2 columns</p>\n",
       "</div>"
      ],
      "text/plain": [
       "       ID            NAME\n",
       "0       4     Afghanistan\n",
       "1       5         Albania\n",
       "2       6         Algeria\n",
       "3       8          Angola\n",
       "4      11       Argentina\n",
       "..    ...             ...\n",
       "132   603  United Kingdom\n",
       "133  1001          Serbia\n",
       "134  1002      Montenegro\n",
       "135  1003          Kosovo\n",
       "136  1004     South Sudan\n",
       "\n",
       "[137 rows x 2 columns]"
      ]
     },
     "execution_count": 17,
     "metadata": {},
     "output_type": "execute_result"
    }
   ],
   "source": [
    "sql = \"\"\"\n",
    "SELECT *\n",
    "FROM country\n",
    "\"\"\"\n",
    "\n",
    "pd.read_sql_query(sql, conn)"
   ]
  },
  {
   "cell_type": "markdown",
   "metadata": {},
   "source": [
    "Podobně jako při načítání souboru můžeme nějaký sloupec použít jako index. Typicky se k tomu hodí primární klíč."
   ]
  },
  {
   "cell_type": "code",
   "execution_count": 18,
   "metadata": {},
   "outputs": [
    {
     "data": {
      "text/html": [
       "<div>\n",
       "<style scoped>\n",
       "    .dataframe tbody tr th:only-of-type {\n",
       "        vertical-align: middle;\n",
       "    }\n",
       "\n",
       "    .dataframe tbody tr th {\n",
       "        vertical-align: top;\n",
       "    }\n",
       "\n",
       "    .dataframe thead th {\n",
       "        text-align: right;\n",
       "    }\n",
       "</style>\n",
       "<table border=\"1\" class=\"dataframe\">\n",
       "  <thead>\n",
       "    <tr style=\"text-align: right;\">\n",
       "      <th></th>\n",
       "      <th>NAME</th>\n",
       "    </tr>\n",
       "    <tr>\n",
       "      <th>ID</th>\n",
       "      <th></th>\n",
       "    </tr>\n",
       "  </thead>\n",
       "  <tbody>\n",
       "    <tr>\n",
       "      <th>4</th>\n",
       "      <td>Afghanistan</td>\n",
       "    </tr>\n",
       "    <tr>\n",
       "      <th>5</th>\n",
       "      <td>Albania</td>\n",
       "    </tr>\n",
       "    <tr>\n",
       "      <th>6</th>\n",
       "      <td>Algeria</td>\n",
       "    </tr>\n",
       "    <tr>\n",
       "      <th>8</th>\n",
       "      <td>Angola</td>\n",
       "    </tr>\n",
       "    <tr>\n",
       "      <th>11</th>\n",
       "      <td>Argentina</td>\n",
       "    </tr>\n",
       "    <tr>\n",
       "      <th>...</th>\n",
       "      <td>...</td>\n",
       "    </tr>\n",
       "    <tr>\n",
       "      <th>603</th>\n",
       "      <td>United Kingdom</td>\n",
       "    </tr>\n",
       "    <tr>\n",
       "      <th>1001</th>\n",
       "      <td>Serbia</td>\n",
       "    </tr>\n",
       "    <tr>\n",
       "      <th>1002</th>\n",
       "      <td>Montenegro</td>\n",
       "    </tr>\n",
       "    <tr>\n",
       "      <th>1003</th>\n",
       "      <td>Kosovo</td>\n",
       "    </tr>\n",
       "    <tr>\n",
       "      <th>1004</th>\n",
       "      <td>South Sudan</td>\n",
       "    </tr>\n",
       "  </tbody>\n",
       "</table>\n",
       "<p>137 rows × 1 columns</p>\n",
       "</div>"
      ],
      "text/plain": [
       "                NAME\n",
       "ID                  \n",
       "4        Afghanistan\n",
       "5            Albania\n",
       "6            Algeria\n",
       "8             Angola\n",
       "11         Argentina\n",
       "...              ...\n",
       "603   United Kingdom\n",
       "1001          Serbia\n",
       "1002      Montenegro\n",
       "1003          Kosovo\n",
       "1004     South Sudan\n",
       "\n",
       "[137 rows x 1 columns]"
      ]
     },
     "execution_count": 18,
     "metadata": {},
     "output_type": "execute_result"
    }
   ],
   "source": [
    "sql = \"\"\"\n",
    "SELECT *\n",
    "FROM country\n",
    "\"\"\"\n",
    "\n",
    "pd.read_sql_query(sql, conn, index_col=\"ID\")"
   ]
  },
  {
   "cell_type": "markdown",
   "metadata": {},
   "source": [
    "### Porovnání SQL a Pandas"
   ]
  },
  {
   "cell_type": "markdown",
   "metadata": {},
   "source": [
    "Teď si ukážeme jak by vypadal stejný dotaz v SQL a v Pandas. Vybereme počet mrtvých (`nkill`) a zemi (`country_txt`) z tabulky `teror` ze všech útoků, kde někdo zemřel a staly se v Iráku nebo v Sýrii. Protože je jich hodně, omezíme se jen na prvních 100 nejsmrtelnějších."
   ]
  },
  {
   "cell_type": "code",
   "execution_count": 19,
   "metadata": {},
   "outputs": [
    {
     "data": {
      "text/html": [
       "<div>\n",
       "<style scoped>\n",
       "    .dataframe tbody tr th:only-of-type {\n",
       "        vertical-align: middle;\n",
       "    }\n",
       "\n",
       "    .dataframe tbody tr th {\n",
       "        vertical-align: top;\n",
       "    }\n",
       "\n",
       "    .dataframe thead th {\n",
       "        text-align: right;\n",
       "    }\n",
       "</style>\n",
       "<table border=\"1\" class=\"dataframe\">\n",
       "  <thead>\n",
       "    <tr style=\"text-align: right;\">\n",
       "      <th></th>\n",
       "      <th>NKILL</th>\n",
       "      <th>COUNTRY_TXT</th>\n",
       "    </tr>\n",
       "  </thead>\n",
       "  <tbody>\n",
       "    <tr>\n",
       "      <th>0</th>\n",
       "      <td>1570</td>\n",
       "      <td>Iraq</td>\n",
       "    </tr>\n",
       "    <tr>\n",
       "      <th>1</th>\n",
       "      <td>953</td>\n",
       "      <td>Iraq</td>\n",
       "    </tr>\n",
       "    <tr>\n",
       "      <th>2</th>\n",
       "      <td>670</td>\n",
       "      <td>Iraq</td>\n",
       "    </tr>\n",
       "    <tr>\n",
       "      <th>3</th>\n",
       "      <td>517</td>\n",
       "      <td>Syria</td>\n",
       "    </tr>\n",
       "    <tr>\n",
       "      <th>4</th>\n",
       "      <td>433</td>\n",
       "      <td>Syria</td>\n",
       "    </tr>\n",
       "    <tr>\n",
       "      <th>...</th>\n",
       "      <td>...</td>\n",
       "      <td>...</td>\n",
       "    </tr>\n",
       "    <tr>\n",
       "      <th>95</th>\n",
       "      <td>49</td>\n",
       "      <td>Iraq</td>\n",
       "    </tr>\n",
       "    <tr>\n",
       "      <th>96</th>\n",
       "      <td>49</td>\n",
       "      <td>Iraq</td>\n",
       "    </tr>\n",
       "    <tr>\n",
       "      <th>97</th>\n",
       "      <td>49</td>\n",
       "      <td>Iraq</td>\n",
       "    </tr>\n",
       "    <tr>\n",
       "      <th>98</th>\n",
       "      <td>48</td>\n",
       "      <td>Syria</td>\n",
       "    </tr>\n",
       "    <tr>\n",
       "      <th>99</th>\n",
       "      <td>47</td>\n",
       "      <td>Iraq</td>\n",
       "    </tr>\n",
       "  </tbody>\n",
       "</table>\n",
       "<p>100 rows × 2 columns</p>\n",
       "</div>"
      ],
      "text/plain": [
       "    NKILL COUNTRY_TXT\n",
       "0    1570        Iraq\n",
       "1     953        Iraq\n",
       "2     670        Iraq\n",
       "3     517       Syria\n",
       "4     433       Syria\n",
       "..    ...         ...\n",
       "95     49        Iraq\n",
       "96     49        Iraq\n",
       "97     49        Iraq\n",
       "98     48       Syria\n",
       "99     47        Iraq\n",
       "\n",
       "[100 rows x 2 columns]"
      ]
     },
     "execution_count": 19,
     "metadata": {},
     "output_type": "execute_result"
    }
   ],
   "source": [
    "sql = \"\"\"\n",
    "SELECT nkill,\n",
    "       country_txt\n",
    "FROM teror\n",
    "WHERE nkill > 0\n",
    "  AND country_txt IN ('Iraq', 'Syria')\n",
    "ORDER BY nkill DESC\n",
    "LIMIT 100\n",
    "\"\"\"\n",
    "\n",
    "pd.read_sql_query(sql, conn)"
   ]
  },
  {
   "cell_type": "code",
   "execution_count": 20,
   "metadata": {},
   "outputs": [
    {
     "data": {
      "text/html": [
       "<div>\n",
       "<style scoped>\n",
       "    .dataframe tbody tr th:only-of-type {\n",
       "        vertical-align: middle;\n",
       "    }\n",
       "\n",
       "    .dataframe tbody tr th {\n",
       "        vertical-align: top;\n",
       "    }\n",
       "\n",
       "    .dataframe thead th {\n",
       "        text-align: right;\n",
       "    }\n",
       "</style>\n",
       "<table border=\"1\" class=\"dataframe\">\n",
       "  <thead>\n",
       "    <tr style=\"text-align: right;\">\n",
       "      <th></th>\n",
       "      <th>NKILL</th>\n",
       "      <th>COUNTRY_TXT</th>\n",
       "    </tr>\n",
       "  </thead>\n",
       "  <tbody>\n",
       "    <tr>\n",
       "      <th>8181</th>\n",
       "      <td>1570.0</td>\n",
       "      <td>Iraq</td>\n",
       "    </tr>\n",
       "    <tr>\n",
       "      <th>10946</th>\n",
       "      <td>953.0</td>\n",
       "      <td>Iraq</td>\n",
       "    </tr>\n",
       "    <tr>\n",
       "      <th>7888</th>\n",
       "      <td>670.0</td>\n",
       "      <td>Iraq</td>\n",
       "    </tr>\n",
       "    <tr>\n",
       "      <th>11409</th>\n",
       "      <td>517.0</td>\n",
       "      <td>Syria</td>\n",
       "    </tr>\n",
       "    <tr>\n",
       "      <th>44861</th>\n",
       "      <td>433.0</td>\n",
       "      <td>Syria</td>\n",
       "    </tr>\n",
       "    <tr>\n",
       "      <th>...</th>\n",
       "      <td>...</td>\n",
       "      <td>...</td>\n",
       "    </tr>\n",
       "    <tr>\n",
       "      <th>21901</th>\n",
       "      <td>49.0</td>\n",
       "      <td>Iraq</td>\n",
       "    </tr>\n",
       "    <tr>\n",
       "      <th>37832</th>\n",
       "      <td>49.0</td>\n",
       "      <td>Iraq</td>\n",
       "    </tr>\n",
       "    <tr>\n",
       "      <th>48001</th>\n",
       "      <td>49.0</td>\n",
       "      <td>Iraq</td>\n",
       "    </tr>\n",
       "    <tr>\n",
       "      <th>20139</th>\n",
       "      <td>48.0</td>\n",
       "      <td>Syria</td>\n",
       "    </tr>\n",
       "    <tr>\n",
       "      <th>5196</th>\n",
       "      <td>47.0</td>\n",
       "      <td>Syria</td>\n",
       "    </tr>\n",
       "  </tbody>\n",
       "</table>\n",
       "<p>100 rows × 2 columns</p>\n",
       "</div>"
      ],
      "text/plain": [
       "        NKILL COUNTRY_TXT\n",
       "8181   1570.0        Iraq\n",
       "10946   953.0        Iraq\n",
       "7888    670.0        Iraq\n",
       "11409   517.0       Syria\n",
       "44861   433.0       Syria\n",
       "...       ...         ...\n",
       "21901    49.0        Iraq\n",
       "37832    49.0        Iraq\n",
       "48001    49.0        Iraq\n",
       "20139    48.0       Syria\n",
       "5196     47.0       Syria\n",
       "\n",
       "[100 rows x 2 columns]"
      ]
     },
     "execution_count": 20,
     "metadata": {},
     "output_type": "execute_result"
    }
   ],
   "source": [
    "sql = \"\"\"\n",
    "SELECT *\n",
    "FROM teror\n",
    "\"\"\"\n",
    "\n",
    "df = pd.read_sql_query(sql, conn)\n",
    "\n",
    "nekdo_zemrel = df[\"NKILL\"] > 0\n",
    "zadana_zeme = df[\"COUNTRY_TXT\"].isin([\"Syria\", \"Iraq\"])\n",
    "zadane_sloupce = [\"NKILL\", \"COUNTRY_TXT\"]\n",
    "\n",
    "df.loc[nekdo_zemrel & zadana_zeme, zadane_sloupce].sort_values(by=\"NKILL\", ascending=False).head(100)"
   ]
  },
  {
   "cell_type": "markdown",
   "metadata": {},
   "source": [
    "Vidíme, že výsledek je téměř stejný. Jediný rozdíl je v datových typech - počet mrtvých z SQL je v celých číslech, pandy nám to daly jako floaty. Z minulé lekce můžeme tušit, že by tam mohly být nějaké chybějící hodnoty."
   ]
  },
  {
   "cell_type": "code",
   "execution_count": 21,
   "metadata": {},
   "outputs": [
    {
     "data": {
      "text/plain": [
       "3220"
      ]
     },
     "execution_count": 21,
     "metadata": {},
     "output_type": "execute_result"
    }
   ],
   "source": [
    "df[\"NKILL\"].isna().sum()"
   ]
  },
  {
   "cell_type": "markdown",
   "metadata": {},
   "source": [
    "Je to tak. Chybějící hodnoty byly v tabulce ještě před protříděním, proto se nám datový typ float propagoval až na konec. Když jsme výsledek získali jako SQL dotaz, do Pandas dorazila jen výsledná tabulka 100 nejsmrtelnějších útoků, ve které nic nechybí."
   ]
  },
  {
   "cell_type": "markdown",
   "metadata": {},
   "source": [
    "O něco fundamentálnější rozdíl je v přístupu k datům. Pokud zadáme celý dotaz v SQL, celý výpočet běží na databázovém serveru. Pokud použijeme Pandas, běží výpočet na našem počítači. Navíc je s tím spojená práce navíc -- abychom dostali data pro Pandas, museli jsme selectnout úplně celou tabulku.\n",
    "\n",
    "Tohle byl demonstrační příklad. V praxi bychom preferovali nechat maximum práce na databázi, aby k nám do počítače šlo co nejmenší množství dat. Pandas (případně jiné Pythonovské knihovny) pak použijeme na tento pročitěný dataset. To nám umožňí provést operace, které SQL buď přímo nepodporuje, nebo jsou v něm zbytečně těžkopádné."
   ]
  },
  {
   "cell_type": "markdown",
   "metadata": {},
   "source": [
    "### UNION"
   ]
  },
  {
   "cell_type": "markdown",
   "metadata": {},
   "source": [
    "Na závěr si ukážeme `UNION` a už zmínené formátování stringů."
   ]
  },
  {
   "cell_type": "markdown",
   "metadata": {},
   "source": [
    "Budeme chtít vybrat všechny názvy zbraní (`weaptype.name`) ať už byly při útoku použity jako primární nebo sekundární. K tabulce `teror2` je joinneme pomocí sloupců `teror2.weaptype1`, respektive `teror2.weaptype2` a sloupce `weaptype.id`."
   ]
  },
  {
   "cell_type": "code",
   "execution_count": 22,
   "metadata": {},
   "outputs": [
    {
     "data": {
      "text/html": [
       "<div>\n",
       "<style scoped>\n",
       "    .dataframe tbody tr th:only-of-type {\n",
       "        vertical-align: middle;\n",
       "    }\n",
       "\n",
       "    .dataframe tbody tr th {\n",
       "        vertical-align: top;\n",
       "    }\n",
       "\n",
       "    .dataframe thead th {\n",
       "        text-align: right;\n",
       "    }\n",
       "</style>\n",
       "<table border=\"1\" class=\"dataframe\">\n",
       "  <thead>\n",
       "    <tr style=\"text-align: right;\">\n",
       "      <th></th>\n",
       "      <th>NAME</th>\n",
       "    </tr>\n",
       "  </thead>\n",
       "  <tbody>\n",
       "    <tr>\n",
       "      <th>0</th>\n",
       "      <td>Explosives</td>\n",
       "    </tr>\n",
       "    <tr>\n",
       "      <th>1</th>\n",
       "      <td>Unknown</td>\n",
       "    </tr>\n",
       "    <tr>\n",
       "      <th>2</th>\n",
       "      <td>Firearms</td>\n",
       "    </tr>\n",
       "    <tr>\n",
       "      <th>3</th>\n",
       "      <td>Incendiary</td>\n",
       "    </tr>\n",
       "    <tr>\n",
       "      <th>4</th>\n",
       "      <td>Fake Weapons</td>\n",
       "    </tr>\n",
       "    <tr>\n",
       "      <th>5</th>\n",
       "      <td>Other</td>\n",
       "    </tr>\n",
       "    <tr>\n",
       "      <th>6</th>\n",
       "      <td>\"Vehicle (not to include vehicle-borne explosi...</td>\n",
       "    </tr>\n",
       "    <tr>\n",
       "      <th>7</th>\n",
       "      <td>Chemical</td>\n",
       "    </tr>\n",
       "    <tr>\n",
       "      <th>8</th>\n",
       "      <td>Sabotage Equipment</td>\n",
       "    </tr>\n",
       "    <tr>\n",
       "      <th>9</th>\n",
       "      <td>Melee</td>\n",
       "    </tr>\n",
       "    <tr>\n",
       "      <th>10</th>\n",
       "      <td>Biological</td>\n",
       "    </tr>\n",
       "  </tbody>\n",
       "</table>\n",
       "</div>"
      ],
      "text/plain": [
       "                                                 NAME\n",
       "0                                          Explosives\n",
       "1                                             Unknown\n",
       "2                                            Firearms\n",
       "3                                          Incendiary\n",
       "4                                        Fake Weapons\n",
       "5                                               Other\n",
       "6   \"Vehicle (not to include vehicle-borne explosi...\n",
       "7                                            Chemical\n",
       "8                                  Sabotage Equipment\n",
       "9                                               Melee\n",
       "10                                         Biological"
      ]
     },
     "execution_count": 22,
     "metadata": {},
     "output_type": "execute_result"
    }
   ],
   "source": [
    "sql = \"\"\"\n",
    "SELECT w.name \n",
    "FROM teror2 t\n",
    "JOIN weaptype w\n",
    "ON t.weaptype1 = w.id\n",
    "UNION\n",
    "SELECT w.name \n",
    "FROM teror2 t\n",
    "JOIN weaptype w\n",
    "ON t.weaptype2 = w.id\n",
    "\"\"\"\n",
    "\n",
    "pd.read_sql(sql, conn)"
   ]
  },
  {
   "cell_type": "markdown",
   "metadata": {},
   "source": [
    "Vidíme, že oba dotazy jsou skoro stejné, liší se jen sloupcem `t.weaptype1` nebo `t.weaptype2`. Nabízí se tedy poskládat dotaz z více částí."
   ]
  },
  {
   "cell_type": "code",
   "execution_count": 23,
   "metadata": {},
   "outputs": [
    {
     "name": "stdout",
     "output_type": "stream",
     "text": [
      "\n",
      "\n",
      "SELECT w.name\n",
      "FROM teror2 t\n",
      "JOIN weaptype w\n",
      "ON t.weaptype1 = w.id\n",
      "\n",
      "UNION\n",
      "\n",
      "SELECT w.name\n",
      "FROM teror2 t\n",
      "JOIN weaptype w\n",
      "ON t.weaptype2 = w.id\n",
      "\n",
      "\n"
     ]
    }
   ],
   "source": [
    "select_sql = \"\"\"\n",
    "SELECT w.name\n",
    "FROM teror2 t\n",
    "JOIN weaptype w\n",
    "ON t.{column} = w.id\n",
    "\"\"\"\n",
    "\n",
    "union_sql = f\"\"\"\n",
    "{select_sql.format(column='weaptype1')}\n",
    "UNION\n",
    "{select_sql.format(column='weaptype2')}\n",
    "\"\"\"\n",
    "\n",
    "print(union_sql)"
   ]
  },
  {
   "cell_type": "code",
   "execution_count": 24,
   "metadata": {},
   "outputs": [
    {
     "data": {
      "text/html": [
       "<div>\n",
       "<style scoped>\n",
       "    .dataframe tbody tr th:only-of-type {\n",
       "        vertical-align: middle;\n",
       "    }\n",
       "\n",
       "    .dataframe tbody tr th {\n",
       "        vertical-align: top;\n",
       "    }\n",
       "\n",
       "    .dataframe thead th {\n",
       "        text-align: right;\n",
       "    }\n",
       "</style>\n",
       "<table border=\"1\" class=\"dataframe\">\n",
       "  <thead>\n",
       "    <tr style=\"text-align: right;\">\n",
       "      <th></th>\n",
       "      <th>NAME</th>\n",
       "    </tr>\n",
       "  </thead>\n",
       "  <tbody>\n",
       "    <tr>\n",
       "      <th>0</th>\n",
       "      <td>Explosives</td>\n",
       "    </tr>\n",
       "    <tr>\n",
       "      <th>1</th>\n",
       "      <td>Unknown</td>\n",
       "    </tr>\n",
       "    <tr>\n",
       "      <th>2</th>\n",
       "      <td>Firearms</td>\n",
       "    </tr>\n",
       "    <tr>\n",
       "      <th>3</th>\n",
       "      <td>Incendiary</td>\n",
       "    </tr>\n",
       "    <tr>\n",
       "      <th>4</th>\n",
       "      <td>Fake Weapons</td>\n",
       "    </tr>\n",
       "    <tr>\n",
       "      <th>5</th>\n",
       "      <td>Other</td>\n",
       "    </tr>\n",
       "    <tr>\n",
       "      <th>6</th>\n",
       "      <td>\"Vehicle (not to include vehicle-borne explosi...</td>\n",
       "    </tr>\n",
       "    <tr>\n",
       "      <th>7</th>\n",
       "      <td>Chemical</td>\n",
       "    </tr>\n",
       "    <tr>\n",
       "      <th>8</th>\n",
       "      <td>Sabotage Equipment</td>\n",
       "    </tr>\n",
       "    <tr>\n",
       "      <th>9</th>\n",
       "      <td>Melee</td>\n",
       "    </tr>\n",
       "    <tr>\n",
       "      <th>10</th>\n",
       "      <td>Biological</td>\n",
       "    </tr>\n",
       "  </tbody>\n",
       "</table>\n",
       "</div>"
      ],
      "text/plain": [
       "                                                 NAME\n",
       "0                                          Explosives\n",
       "1                                             Unknown\n",
       "2                                            Firearms\n",
       "3                                          Incendiary\n",
       "4                                        Fake Weapons\n",
       "5                                               Other\n",
       "6   \"Vehicle (not to include vehicle-borne explosi...\n",
       "7                                            Chemical\n",
       "8                                  Sabotage Equipment\n",
       "9                                               Melee\n",
       "10                                         Biological"
      ]
     },
     "execution_count": 24,
     "metadata": {},
     "output_type": "execute_result"
    }
   ],
   "source": [
    "pd.read_sql_query(union_sql, conn)"
   ]
  },
  {
   "cell_type": "markdown",
   "metadata": {},
   "source": [
    "## 3. JOIN"
   ]
  },
  {
   "cell_type": "markdown",
   "metadata": {},
   "source": [
    "Opět si porovnáme JOIN mezi SQL a Pandas."
   ]
  },
  {
   "cell_type": "markdown",
   "metadata": {},
   "source": [
    "Vybereme název státu (`country.name`) a typ útoku (`attacktype.name`) tak, že k tabulce `teror2` najoinujeme tabulku `country` přes `teror2.country` <-> `country.id` a tabulku `attacktype` přes `teror2.attacktype1` <-> `attacktype.id`. Pro urychlení opět jen prvních 100 záznamů."
   ]
  },
  {
   "cell_type": "code",
   "execution_count": 25,
   "metadata": {},
   "outputs": [
    {
     "data": {
      "text/html": [
       "<div>\n",
       "<style scoped>\n",
       "    .dataframe tbody tr th:only-of-type {\n",
       "        vertical-align: middle;\n",
       "    }\n",
       "\n",
       "    .dataframe tbody tr th {\n",
       "        vertical-align: top;\n",
       "    }\n",
       "\n",
       "    .dataframe thead th {\n",
       "        text-align: right;\n",
       "    }\n",
       "</style>\n",
       "<table border=\"1\" class=\"dataframe\">\n",
       "  <thead>\n",
       "    <tr style=\"text-align: right;\">\n",
       "      <th></th>\n",
       "      <th>COUNTRY_NAME</th>\n",
       "      <th>ATTACK_NAME</th>\n",
       "    </tr>\n",
       "  </thead>\n",
       "  <tbody>\n",
       "    <tr>\n",
       "      <th>0</th>\n",
       "      <td>Somalia</td>\n",
       "      <td>Bombing/Explosion</td>\n",
       "    </tr>\n",
       "    <tr>\n",
       "      <th>1</th>\n",
       "      <td>Pakistan</td>\n",
       "      <td>Bombing/Explosion</td>\n",
       "    </tr>\n",
       "    <tr>\n",
       "      <th>2</th>\n",
       "      <td>Pakistan</td>\n",
       "      <td>Bombing/Explosion</td>\n",
       "    </tr>\n",
       "    <tr>\n",
       "      <th>3</th>\n",
       "      <td>Somalia</td>\n",
       "      <td>Hostage Taking (Kidnapping)</td>\n",
       "    </tr>\n",
       "    <tr>\n",
       "      <th>4</th>\n",
       "      <td>Iraq</td>\n",
       "      <td>Bombing/Explosion</td>\n",
       "    </tr>\n",
       "    <tr>\n",
       "      <th>...</th>\n",
       "      <td>...</td>\n",
       "      <td>...</td>\n",
       "    </tr>\n",
       "    <tr>\n",
       "      <th>95</th>\n",
       "      <td>Bangladesh</td>\n",
       "      <td>Facility/Infrastructure Attack</td>\n",
       "    </tr>\n",
       "    <tr>\n",
       "      <th>96</th>\n",
       "      <td>Bangladesh</td>\n",
       "      <td>Facility/Infrastructure Attack</td>\n",
       "    </tr>\n",
       "    <tr>\n",
       "      <th>97</th>\n",
       "      <td>Bangladesh</td>\n",
       "      <td>Facility/Infrastructure Attack</td>\n",
       "    </tr>\n",
       "    <tr>\n",
       "      <th>98</th>\n",
       "      <td>Bangladesh</td>\n",
       "      <td>Facility/Infrastructure Attack</td>\n",
       "    </tr>\n",
       "    <tr>\n",
       "      <th>99</th>\n",
       "      <td>Bangladesh</td>\n",
       "      <td>Facility/Infrastructure Attack</td>\n",
       "    </tr>\n",
       "  </tbody>\n",
       "</table>\n",
       "<p>100 rows × 2 columns</p>\n",
       "</div>"
      ],
      "text/plain": [
       "   COUNTRY_NAME                     ATTACK_NAME\n",
       "0       Somalia               Bombing/Explosion\n",
       "1      Pakistan               Bombing/Explosion\n",
       "2      Pakistan               Bombing/Explosion\n",
       "3       Somalia     Hostage Taking (Kidnapping)\n",
       "4          Iraq               Bombing/Explosion\n",
       "..          ...                             ...\n",
       "95   Bangladesh  Facility/Infrastructure Attack\n",
       "96   Bangladesh  Facility/Infrastructure Attack\n",
       "97   Bangladesh  Facility/Infrastructure Attack\n",
       "98   Bangladesh  Facility/Infrastructure Attack\n",
       "99   Bangladesh  Facility/Infrastructure Attack\n",
       "\n",
       "[100 rows x 2 columns]"
      ]
     },
     "execution_count": 25,
     "metadata": {},
     "output_type": "execute_result"
    }
   ],
   "source": [
    "sql = \"\"\"\n",
    "SELECT c.name AS country_name,\n",
    "       atyp.name AS attack_name\n",
    "FROM teror2 AS t\n",
    "LEFT JOIN country AS c\n",
    "ON t.country = c.id\n",
    "LEFT JOIN attacktype AS atyp\n",
    "ON t.attacktype1 = atyp.id\n",
    "LIMIT 100;\n",
    "\"\"\"\n",
    "\n",
    "pd.read_sql_query(sql, conn)"
   ]
  },
  {
   "cell_type": "code",
   "execution_count": 26,
   "metadata": {},
   "outputs": [],
   "source": [
    "sql_teror2 = \"\"\"\n",
    "SELECT *\n",
    "FROM teror2\n",
    "\"\"\"\n",
    "\n",
    "sql_country = \"\"\"\n",
    "SELECT *\n",
    "FROM country\n",
    "\"\"\"\n",
    "\n",
    "sql_attacktype = \"\"\"\n",
    "SELECT *\n",
    "FROM attacktype\n",
    "\"\"\"\n",
    "\n",
    "df_teror2 = pd.read_sql_query(sql_teror2, conn)\n",
    "df_country = pd.read_sql_query(sql_country, conn)\n",
    "df_attacktype = pd.read_sql_query(sql_attacktype, conn)"
   ]
  },
  {
   "cell_type": "code",
   "execution_count": 27,
   "metadata": {},
   "outputs": [
    {
     "data": {
      "text/html": [
       "<div>\n",
       "<style scoped>\n",
       "    .dataframe tbody tr th:only-of-type {\n",
       "        vertical-align: middle;\n",
       "    }\n",
       "\n",
       "    .dataframe tbody tr th {\n",
       "        vertical-align: top;\n",
       "    }\n",
       "\n",
       "    .dataframe thead th {\n",
       "        text-align: right;\n",
       "    }\n",
       "</style>\n",
       "<table border=\"1\" class=\"dataframe\">\n",
       "  <thead>\n",
       "    <tr style=\"text-align: right;\">\n",
       "      <th></th>\n",
       "      <th>COUNTRY_NAME</th>\n",
       "      <th>ATTACK_NAME</th>\n",
       "    </tr>\n",
       "  </thead>\n",
       "  <tbody>\n",
       "    <tr>\n",
       "      <th>0</th>\n",
       "      <td>Somalia</td>\n",
       "      <td>Bombing/Explosion</td>\n",
       "    </tr>\n",
       "    <tr>\n",
       "      <th>1</th>\n",
       "      <td>Pakistan</td>\n",
       "      <td>Bombing/Explosion</td>\n",
       "    </tr>\n",
       "    <tr>\n",
       "      <th>2</th>\n",
       "      <td>Pakistan</td>\n",
       "      <td>Bombing/Explosion</td>\n",
       "    </tr>\n",
       "    <tr>\n",
       "      <th>3</th>\n",
       "      <td>Somalia</td>\n",
       "      <td>Hostage Taking (Kidnapping)</td>\n",
       "    </tr>\n",
       "    <tr>\n",
       "      <th>4</th>\n",
       "      <td>Iraq</td>\n",
       "      <td>Bombing/Explosion</td>\n",
       "    </tr>\n",
       "    <tr>\n",
       "      <th>...</th>\n",
       "      <td>...</td>\n",
       "      <td>...</td>\n",
       "    </tr>\n",
       "    <tr>\n",
       "      <th>95</th>\n",
       "      <td>Bangladesh</td>\n",
       "      <td>Facility/Infrastructure Attack</td>\n",
       "    </tr>\n",
       "    <tr>\n",
       "      <th>96</th>\n",
       "      <td>Bangladesh</td>\n",
       "      <td>Facility/Infrastructure Attack</td>\n",
       "    </tr>\n",
       "    <tr>\n",
       "      <th>97</th>\n",
       "      <td>Bangladesh</td>\n",
       "      <td>Facility/Infrastructure Attack</td>\n",
       "    </tr>\n",
       "    <tr>\n",
       "      <th>98</th>\n",
       "      <td>Bangladesh</td>\n",
       "      <td>Facility/Infrastructure Attack</td>\n",
       "    </tr>\n",
       "    <tr>\n",
       "      <th>99</th>\n",
       "      <td>Bangladesh</td>\n",
       "      <td>Facility/Infrastructure Attack</td>\n",
       "    </tr>\n",
       "  </tbody>\n",
       "</table>\n",
       "<p>100 rows × 2 columns</p>\n",
       "</div>"
      ],
      "text/plain": [
       "   COUNTRY_NAME                     ATTACK_NAME\n",
       "0       Somalia               Bombing/Explosion\n",
       "1      Pakistan               Bombing/Explosion\n",
       "2      Pakistan               Bombing/Explosion\n",
       "3       Somalia     Hostage Taking (Kidnapping)\n",
       "4          Iraq               Bombing/Explosion\n",
       "..          ...                             ...\n",
       "95   Bangladesh  Facility/Infrastructure Attack\n",
       "96   Bangladesh  Facility/Infrastructure Attack\n",
       "97   Bangladesh  Facility/Infrastructure Attack\n",
       "98   Bangladesh  Facility/Infrastructure Attack\n",
       "99   Bangladesh  Facility/Infrastructure Attack\n",
       "\n",
       "[100 rows x 2 columns]"
      ]
     },
     "execution_count": 27,
     "metadata": {},
     "output_type": "execute_result"
    }
   ],
   "source": [
    "merge1 = df_teror2.merge(df_country, how=\"left\", left_on=\"COUNTRY\", right_on=\"ID\")\n",
    "merge2 = merge1.merge(df_attacktype, how=\"left\", left_on=\"ATTACKTYPE1\", right_on=\"ID\")\n",
    "\n",
    "merge2.rename(columns={\"NAME_x\": \"COUNTRY_NAME\", \"NAME_y\": \"ATTACK_NAME\"}, inplace=True)\n",
    "merge2[[\"COUNTRY_NAME\", \"ATTACK_NAME\"]].head(100)"
   ]
  },
  {
   "cell_type": "markdown",
   "metadata": {},
   "source": [
    "Tohle je poměrně těžkopádné. Jednak musíme rozepsat merge po dvojicích, jednak musíme přejmenovat sloupce. Hlavně je to mimořádně neefektivní. Potřebujeme z databáze získat 3 velké tabulky, na našem počítači je postupně zmergovat, a nechat si z nich jen malý zlomek.\n",
    "\n",
    "Tohle je typický případ, kdy bychom preferovali nechat veškerou práci na databázi."
   ]
  },
  {
   "cell_type": "markdown",
   "metadata": {},
   "source": [
    "## INSERT"
   ]
  },
  {
   "cell_type": "markdown",
   "metadata": {},
   "source": [
    "Je samozřejmě taky možný, ale tady se do něj pouštět nebudeme. Vyžadovalo by to přenastavit schéma aby měl každý práva zapisovat, a je trochu problém napsat to efektivně. Smyslem lekce bylo ukázat že je možné propojit Python se Snowflake (případně libovolnou jinou databází), detaily si podle potřeby každý dohledá."
   ]
  },
  {
   "cell_type": "markdown",
   "metadata": {},
   "source": [
    "## Zavření spojení"
   ]
  },
  {
   "cell_type": "markdown",
   "metadata": {},
   "source": [
    "Stejně jako spojení do souboru je potřeba spojení do databáze na konci zavřít.\n",
    "\n",
    "Opět lze použít `with` blok a nechat si ho zavřít automaticky.\n",
    "```python\n",
    "with snowflake.connector.connect(\n",
    "    user=name,\n",
    "    password=password,\n",
    "    account=ACCOUNT,\n",
    "    warehouse=WAREHOUSE,\n",
    "    database=DATABASE,\n",
    "    schema=SCHEMA,\n",
    "    role=role,\n",
    ") as conn:\n",
    "    pass\n",
    "```\n",
    "V rámci tohoto notebooku se to úplně nehodí, protože spojení potřebujeme používat na víc dotazů během celé lekce. Pokud ale provádíme dotazy zhruba po sobě, je vhodné `with` blok použít, stejně jako při práci se soubory. Pozor jen že navázání spojení chvíli trvá, stejně jako otevření souboru. Taky se může stát, že po mnoha opakovaných spojeních nás server na nějakou dobu zablokuje."
   ]
  },
  {
   "cell_type": "code",
   "execution_count": 28,
   "metadata": {},
   "outputs": [],
   "source": [
    "conn.close()"
   ]
  }
 ],
 "metadata": {
  "kernelspec": {
   "display_name": "Python 3",
   "language": "python",
   "name": "python3"
  },
  "language_info": {
   "codemirror_mode": {
    "name": "ipython",
    "version": 3
   },
   "file_extension": ".py",
   "mimetype": "text/x-python",
   "name": "python",
   "nbconvert_exporter": "python",
   "pygments_lexer": "ipython3",
   "version": "3.8.5"
  }
 },
 "nbformat": 4,
 "nbformat_minor": 4
}
